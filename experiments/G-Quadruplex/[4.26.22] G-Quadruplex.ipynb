{
 "cells": [
  {
   "cell_type": "markdown",
   "metadata": {},
   "source": [
    "# Search for G-Quadruplex instances in seq. data"
   ]
  },
  {
   "cell_type": "code",
   "execution_count": 7,
   "metadata": {},
   "outputs": [],
   "source": [
    "base_path = \"../../data/raw/ABE/ABE-sequence/\"\n",
    "train_ABE_samples = ['156B', '157B', '158B']\n",
    "train_chr = [str(x) for x in range(1, 23)]\n",
    "be = 'ABEmax'"
   ]
  },
  {
   "cell_type": "code",
   "execution_count": 8,
   "metadata": {},
   "outputs": [],
   "source": [
    "import numpy as np\n",
    "import gzip\n",
    "from sklearn.preprocessing import LabelEncoder, OneHotEncoder\n",
    "import os\n",
    "from tqdm import tqdm\n",
    "\n",
    "def load_fasta_data(rep, chrm):\n",
    "    file_path = os.path.join(base_path, f\"{rep}.chr{chrm}.fasta.gz\")\n",
    "    er = []\n",
    "    seqs = []\n",
    "    with gzip.open(file_path, 'rt') as f:\n",
    "        for line in tqdm(f):\n",
    "            if line[0] == \">\":\n",
    "                idx = 0\n",
    "                if '_F_' in line:\n",
    "                    idx = line.index('_F_')+3\n",
    "                else:\n",
    "                    idx = line.index('_R_')+3\n",
    "                line = line[idx:]\n",
    "                line = line[:line.index(\"_\")]\n",
    "                er.append(float(line)) \n",
    "            else:\n",
    "                seqs.append(line[:-1]) #Remove extra newline character\n",
    "    assert len(er) == len(seqs) \n",
    "    return (seqs, er)"
   ]
  },
  {
   "cell_type": "code",
   "execution_count": 9,
   "metadata": {},
   "outputs": [
    {
     "name": "stderr",
     "output_type": "stream",
     "text": [
      "549064it [00:00, 617603.94it/s]\n",
      "305218it [00:00, 599363.30it/s]\n",
      "246522it [00:00, 602895.22it/s]\n",
      "135370it [00:00, 605644.17it/s]\n",
      "248358it [00:00, 604749.90it/s]\n",
      "238924it [00:00, 607589.90it/s]\n",
      "199700it [00:00, 606779.82it/s]\n",
      "125248it [00:00, 594502.74it/s]\n",
      "168902it [00:00, 608710.96it/s]\n",
      "180036it [00:00, 603037.30it/s]\n",
      "232040it [00:00, 607616.26it/s]\n",
      "227564it [00:00, 610218.85it/s]\n",
      "76302it [00:00, 604007.13it/s]\n",
      "138448it [00:00, 605162.13it/s]\n",
      "128648it [00:00, 599615.09it/s]\n",
      "177938it [00:00, 601830.24it/s]\n",
      "261844it [00:00, 607368.11it/s]\n",
      "68690it [00:00, 603109.77it/s]\n",
      "182486it [00:00, 591535.33it/s]\n",
      "107838it [00:00, 598969.67it/s]\n",
      "51226it [00:00, 599706.41it/s]\n",
      "114512it [00:00, 594347.48it/s]\n",
      "484160it [00:00, 546779.44it/s]\n",
      "260936it [00:00, 605751.03it/s]\n",
      "206654it [00:00, 606978.18it/s]\n",
      "116468it [00:00, 605151.13it/s]\n",
      "216120it [00:00, 614518.79it/s]\n",
      "206036it [00:00, 602554.91it/s]\n",
      "171842it [00:00, 604392.15it/s]\n",
      "107116it [00:00, 598548.47it/s]\n",
      "144382it [00:00, 609000.32it/s]\n",
      "156616it [00:00, 612003.44it/s]\n",
      "203916it [00:00, 604632.76it/s]\n",
      "200460it [00:00, 613120.24it/s]\n",
      "60636it [00:00, 605282.58it/s]\n",
      "120196it [00:00, 595816.91it/s]\n",
      "101866it [00:00, 606070.07it/s]\n",
      "157688it [00:00, 604994.99it/s]\n",
      "226644it [00:00, 608708.41it/s]\n",
      "59820it [00:00, 606981.93it/s]\n",
      "163616it [00:00, 593478.53it/s]\n",
      "92360it [00:00, 596555.62it/s]\n",
      "41456it [00:00, 597565.69it/s]\n",
      "101354it [00:00, 596216.46it/s]\n",
      "436742it [00:00, 619494.57it/s]\n",
      "220248it [00:00, 608636.77it/s]\n",
      "176984it [00:00, 604904.34it/s]\n",
      "94282it [00:00, 613833.30it/s]\n",
      "185304it [00:00, 613493.90it/s]\n",
      "183686it [00:00, 594334.27it/s]\n",
      "148390it [00:00, 606601.12it/s]\n",
      "90856it [00:00, 609620.90it/s]\n",
      "121432it [00:00, 595504.07it/s]\n",
      "133154it [00:00, 600448.93it/s]\n",
      "181388it [00:00, 608920.16it/s]\n",
      "179208it [00:00, 613921.91it/s]\n",
      "51706it [00:00, 610284.45it/s]\n",
      "100450it [00:00, 606291.23it/s]\n",
      "84276it [00:00, 229276.59it/s]\n",
      "143450it [00:00, 612778.91it/s]\n",
      "207336it [00:00, 612113.90it/s]\n",
      "49396it [00:00, 604206.60it/s]\n",
      "149712it [00:00, 607938.88it/s]\n",
      "83756it [00:00, 611969.66it/s]\n",
      "36314it [00:00, 600618.14it/s]\n",
      "94734it [00:00, 610108.92it/s]\n"
     ]
    }
   ],
   "source": [
    "train_seqs = []\n",
    "train_ers = []\n",
    "for sample in train_ABE_samples:\n",
    "    for rep in train_chr:\n",
    "        seq, er = load_fasta_data(sample, rep)\n",
    "        train_seqs = seq+train_seqs\n",
    "        train_ers = er+train_ers"
   ]
  },
  {
   "cell_type": "code",
   "execution_count": 10,
   "metadata": {},
   "outputs": [
    {
     "data": {
      "text/plain": [
       "'ATGGAGTTCCAGGGACGTGGCAGTTCCCAGTGCAACTAACCCGGAATAGCAAGGGGGAAAGGGCAAGTCCTAGAATGGGGTATGCTCACCCACTGCATTCC'"
      ]
     },
     "execution_count": 10,
     "metadata": {},
     "output_type": "execute_result"
    }
   ],
   "source": [
    "train_seqs[0]"
   ]
  },
  {
   "cell_type": "code",
   "execution_count": 11,
   "metadata": {},
   "outputs": [],
   "source": [
    "import re\n",
    "def check_regex(regex, string):\n",
    "    matched = re.match(regex, string)\n",
    "    is_match = bool(matched)\n",
    "    return is_match"
   ]
  },
  {
   "cell_type": "code",
   "execution_count": 12,
   "metadata": {},
   "outputs": [],
   "source": [
    "regex = '\\w*([gG]{3,5}\\w{1,7}){3,}[gG]{3,5}\\w*'"
   ]
  },
  {
   "cell_type": "code",
   "execution_count": 13,
   "metadata": {},
   "outputs": [
    {
     "name": "stderr",
     "output_type": "stream",
     "text": [
      "100%|██████████| 5459012/5459012 [00:46<00:00, 116775.69it/s]"
     ]
    },
    {
     "name": "stdout",
     "output_type": "stream",
     "text": [
      "25012\n"
     ]
    },
    {
     "name": "stderr",
     "output_type": "stream",
     "text": [
      "\n"
     ]
    }
   ],
   "source": [
    "from tqdm import trange\n",
    "ct = 0\n",
    "seq = []\n",
    "er = []\n",
    "idxs = []\n",
    "for x in trange(len(train_seqs)):\n",
    "    res = check_regex(regex, train_seqs[x])\n",
    "    if res:\n",
    "        ct+=1\n",
    "        seq.append(train_seqs[x])\n",
    "        er.append(train_ers[x])\n",
    "    else:\n",
    "        idxs.append(x)\n",
    "print(ct)"
   ]
  },
  {
   "cell_type": "code",
   "execution_count": 14,
   "metadata": {},
   "outputs": [
    {
     "data": {
      "text/plain": [
       "0.01566222213337598"
      ]
     },
     "execution_count": 14,
     "metadata": {},
     "output_type": "execute_result"
    }
   ],
   "source": [
    "gquad = np.array(er)\n",
    "np.mean(gquad)"
   ]
  },
  {
   "cell_type": "code",
   "execution_count": 15,
   "metadata": {},
   "outputs": [
    {
     "data": {
      "text/plain": [
       "0.012346364317261672"
      ]
     },
     "execution_count": 15,
     "metadata": {},
     "output_type": "execute_result"
    }
   ],
   "source": [
    "bkgd = np.array(train_ers)[idxs]\n",
    "np.mean(bkgd)"
   ]
  },
  {
   "cell_type": "markdown",
   "metadata": {},
   "source": [
    "# Plot Distribution of Edit Rates for non-Gquad and G-quad regions"
   ]
  },
  {
   "cell_type": "code",
   "execution_count": 16,
   "metadata": {},
   "outputs": [
    {
     "data": {
      "image/png": "[encoded data removed]",
      "text/plain": [
       "<Figure size 432x288 with 1 Axes>"
      ]
     },
     "metadata": {
      "needs_background": "light"
     },
     "output_type": "display_data"
    }
   ],
   "source": [
    "import seaborn as sns\n",
    "ax = sns.distplot(gquad)\n",
    "ax = ax.set_title('Edit rates for sites with G-quadruplexes')\n",
    "ax.get_figure().savefig(\"{}GQuad.png\".format(be))"
   ]
  },
  {
   "cell_type": "code",
   "execution_count": 17,
   "metadata": {},
   "outputs": [
    {
     "data": {
      "image/png": "[encoded data removed]",
      "text/plain": [
       "<Figure size 432x288 with 1 Axes>"
      ]
     },
     "metadata": {
      "needs_background": "light"
     },
     "output_type": "display_data"
    }
   ],
   "source": [
    "ax = sns.distplot(bkgd)\n",
    "ax = ax.set_title('Edit rates for background sites')\n",
    "ax.get_figure().savefig(\"{}Bkgd.png\".format(be))"
   ]
  },
  {
   "cell_type": "code",
   "execution_count": 18,
   "metadata": {},
   "outputs": [],
   "source": [
    "# Logit transform to better show differences"
   ]
  },
  {
   "cell_type": "code",
   "execution_count": 19,
   "metadata": {},
   "outputs": [],
   "source": [
    "import math\n",
    "def logit_transform(x):\n",
    "    if x < math.exp(-8):\n",
    "        return -8\n",
    "    if 1-x < math.exp(-8):\n",
    "        return 8\n",
    "    return math.log(x/(1-x))"
   ]
  },
  {
   "cell_type": "code",
   "execution_count": 20,
   "metadata": {},
   "outputs": [
    {
     "data": {
      "text/plain": [
       "-6.142218133133904"
      ]
     },
     "execution_count": 20,
     "metadata": {},
     "output_type": "execute_result"
    }
   ],
   "source": [
    "log_gquad = np.array([logit_transform(x) for x in gquad])\n",
    "np.mean(log_gquad)"
   ]
  },
  {
   "cell_type": "code",
   "execution_count": 23,
   "metadata": {},
   "outputs": [
    {
     "data": {
      "image/png": "[encoded data removed]",
      "text/plain": [
       "<Figure size 432x288 with 1 Axes>"
      ]
     },
     "metadata": {
      "needs_background": "light"
     },
     "output_type": "display_data"
    }
   ],
   "source": [
    "g = sns.distplot(log_gquad)\n",
    "g = g.set_title('Log Edit Rates for G-Quadruplex sites')\n",
    "g.get_figure().savefig(\"{}GQuadLogit.png\".format(be))"
   ]
  },
  {
   "cell_type": "code",
   "execution_count": 24,
   "metadata": {},
   "outputs": [
    {
     "data": {
      "text/plain": [
       "-6.353085940142912"
      ]
     },
     "execution_count": 24,
     "metadata": {},
     "output_type": "execute_result"
    }
   ],
   "source": [
    "log_bkgd = np.array([logit_transform(x) for x in bkgd])\n",
    "np.mean(log_bkgd)"
   ]
  },
  {
   "cell_type": "code",
   "execution_count": null,
   "metadata": {},
   "outputs": [],
   "source": [
    "g = sns.distplot(log_bkgd)\n",
    "g = g.set_title('Log Edit Rates for Background sites')\n",
    "g.get_figure().savefig(\"{}BkgdLogit.png\".format(be))"
   ]
  }
 ],
 "metadata": {
  "kernelspec": {
   "display_name": "Python [conda env:tf1.15.2]",
   "language": "python",
   "name": "conda-env-tf1.15.2-py"
  },
  "language_info": {
   "codemirror_mode": {
    "name": "ipython",
    "version": 3
   },
   "file_extension": ".py",
   "mimetype": "text/x-python",
   "name": "python",
   "nbconvert_exporter": "python",
   "pygments_lexer": "ipython3",
   "version": "3.7.7"
  }
 },
 "nbformat": 4,
 "nbformat_minor": 4
}
