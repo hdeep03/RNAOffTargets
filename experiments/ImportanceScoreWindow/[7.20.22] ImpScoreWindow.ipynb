{
 "cells": [
  {
   "cell_type": "markdown",
   "metadata": {},
   "source": [
    "# Importance Score Windows by 5' and 3' bases"
   ]
  },
  {
   "cell_type": "code",
   "execution_count": 1,
   "metadata": {},
   "outputs": [],
   "source": [
    "import tensorflow as tf\n",
    "import os\n",
    "cwd = os.getcwd()\n",
    "os.chdir('../../src/')\n",
    "from dataloader import OneHotEncoder, load_fasta_data, RNASeqDataGenerator\n",
    "os.chdir('../experiments/ImportanceScoreWindow/')"
   ]
  },
  {
   "cell_type": "code",
   "execution_count": 2,
   "metadata": {},
   "outputs": [],
   "source": [
    "be_type='CBE'\n",
    "sample='161F'\n",
    "be_class='A3A'\n",
    "\n",
    "data_dir = \"../../data/raw/{0}/{0}-sequence/\".format(be_type)\n",
    "\n",
    "train_chr = [str(x) for x in range(1, 20)]\n",
    "test_chr = [str(x) for x in range(20, 23)] +['X']\n",
    "train_seqs, train_ers, test_seqs, test_ers = [], [], [], []\n",
    "\n",
    "for rep in train_chr:\n",
    "        seq, er = load_fasta_data(sample, rep, data_dir)\n",
    "        train_seqs = seq+train_seqs\n",
    "        train_ers = er+train_ers\n",
    "for rep in test_chr:\n",
    "        seq, er = load_fasta_data(sample, rep, data_dir)\n",
    "        test_seqs = seq+test_seqs\n",
    "        test_ers = er+test_ers"
   ]
  },
  {
   "cell_type": "code",
   "execution_count": 3,
   "metadata": {},
   "outputs": [
    {
     "name": "stdout",
     "output_type": "stream",
     "text": [
      "Device mapping:\n",
      "/job:localhost/replica:0/task:0/device:XLA_CPU:0 -> device: XLA_CPU device\n",
      "/job:localhost/replica:0/task:0/device:XLA_GPU:0 -> device: XLA_GPU device\n",
      "/job:localhost/replica:0/task:0/device:GPU:0 -> device: 0, name: Tesla K80, pci bus id: 0000:00:05.0, compute capability: 3.7\n",
      "\n"
     ]
    }
   ],
   "source": [
    "os.environ[\"CUDA_DEVICE_ORDER\"] = \"PCI_BUS_ID\"\n",
    "os.environ[\"CUDA_VISIBLE_DEVICES\"]=\"1\"\n",
    "config = tf.ConfigProto(log_device_placement=True)\n",
    "config.gpu_options.allow_growth=True\n",
    "sess = tf.Session(config=config)"
   ]
  },
  {
   "cell_type": "code",
   "execution_count": 4,
   "metadata": {},
   "outputs": [
    {
     "name": "stdout",
     "output_type": "stream",
     "text": [
      "WARNING:tensorflow:From /home/harsh/.local/lib/python3.7/site-packages/tensorflow_core/python/ops/init_ops.py:97: calling GlorotUniform.__init__ (from tensorflow.python.ops.init_ops) with dtype is deprecated and will be removed in a future version.\n",
      "Instructions for updating:\n",
      "Call initializer instance with the dtype argument instead of passing it to the constructor\n",
      "WARNING:tensorflow:From /home/harsh/.local/lib/python3.7/site-packages/tensorflow_core/python/ops/init_ops.py:97: calling Zeros.__init__ (from tensorflow.python.ops.init_ops) with dtype is deprecated and will be removed in a future version.\n",
      "Instructions for updating:\n",
      "Call initializer instance with the dtype argument instead of passing it to the constructor\n",
      "WARNING:tensorflow:From /home/harsh/.local/lib/python3.7/site-packages/tensorflow_core/python/ops/resource_variable_ops.py:1630: calling BaseResourceVariable.__init__ (from tensorflow.python.ops.resource_variable_ops) with constraint is deprecated and will be removed in a future version.\n",
      "Instructions for updating:\n",
      "If using Keras pass *_constraint arguments to layers.\n",
      "WARNING:tensorflow:From /home/harsh/.local/lib/python3.7/site-packages/tensorflow_core/python/ops/init_ops.py:97: calling Ones.__init__ (from tensorflow.python.ops.init_ops) with dtype is deprecated and will be removed in a future version.\n",
      "Instructions for updating:\n",
      "Call initializer instance with the dtype argument instead of passing it to the constructor\n"
     ]
    }
   ],
   "source": [
    "model = tf.keras.models.load_model('../../models/CNN/{}/{}.h5'.format(be_type, sample))"
   ]
  },
  {
   "cell_type": "code",
   "execution_count": 5,
   "metadata": {
    "scrolled": true
   },
   "outputs": [],
   "source": [
    "import shap\n",
    "train_dat_gen = RNASeqDataGenerator(train_seqs, train_ers, logits=False)\n",
    "test_dat_gen = RNASeqDataGenerator(test_seqs, test_ers, logits=False)"
   ]
  },
  {
   "cell_type": "code",
   "execution_count": 6,
   "metadata": {},
   "outputs": [],
   "source": [
    "pred = model.predict(train_dat_gen[1])"
   ]
  },
  {
   "cell_type": "code",
   "execution_count": 7,
   "metadata": {},
   "outputs": [
    {
     "name": "stderr",
     "output_type": "stream",
     "text": [
      "  0%|          | 77/25724 [00:01<05:56, 71.89it/s]\n"
     ]
    }
   ],
   "source": [
    "from tqdm import tqdm\n",
    "import numpy as np\n",
    "X_bg = list()\n",
    "y_bg = list()\n",
    "th = 0.01\n",
    "inp = np.arange(len(train_dat_gen))\n",
    "np.random.shuffle(inp)\n",
    "for x in tqdm(inp):\n",
    "    inp_data = train_dat_gen[x][0]\n",
    "    gt = train_dat_gen[x][1]\n",
    "    preds = model.predict(inp_data)\n",
    "    for index in range(inp_data.shape[0]):\n",
    "        if (preds[index]<th):\n",
    "            X_bg.append(inp_data[index])\n",
    "            y_bg.append(gt[index])\n",
    "    if len(y_bg)>4096:\n",
    "        break;\n",
    "X_bg_set = np.array(X_bg)"
   ]
  },
  {
   "cell_type": "code",
   "execution_count": 8,
   "metadata": {
    "scrolled": false
   },
   "outputs": [
    {
     "name": "stdout",
     "output_type": "stream",
     "text": [
      "WARNING:tensorflow:From /home/harsh/.local/lib/python3.7/site-packages/shap/explainers/tf_utils.py:28: The name tf.keras.backend.get_session is deprecated. Please use tf.compat.v1.keras.backend.get_session instead.\n",
      "\n"
     ]
    },
    {
     "name": "stderr",
     "output_type": "stream",
     "text": [
      "Using TensorFlow backend.\n",
      "keras is no longer supported, please use tf.keras instead.\n"
     ]
    }
   ],
   "source": [
    "shap_explainer = shap.DeepExplainer(model, X_bg_set)"
   ]
  },
  {
   "cell_type": "code",
   "execution_count": 10,
   "metadata": {},
   "outputs": [
    {
     "name": "stderr",
     "output_type": "stream",
     "text": [
      "100%|██████████| 10/10 [04:03<00:00, 24.35s/it]\n"
     ]
    }
   ],
   "source": [
    "from tqdm import tqdm\n",
    "shp_acc = list()\n",
    "x_acc=list()\n",
    "preds_acc=list()\n",
    "gt_acc = list()\n",
    "for i in tqdm(range(10)):\n",
    "    shp_acc.append(shap_explainer.shap_values(test_dat_gen[i][0])[0])\n",
    "    x_acc.append(test_dat_gen[i][0])\n",
    "    preds_acc.append(model.predict(test_dat_gen[i][0]).reshape((64,1)))\n",
    "    gt_acc.append(np.array(test_dat_gen[i][1]).reshape((64,1)))\n",
    "shp = np.vstack(shp_acc)\n",
    "x_shp = np.vstack(x_acc)\n",
    "preds_shp = np.vstack(preds_acc)\n",
    "gt_shp = np.vstack(gt_acc)"
   ]
  },
  {
   "cell_type": "code",
   "execution_count": 11,
   "metadata": {},
   "outputs": [],
   "source": [
    "shp_norm = np.abs(shp*x_shp)"
   ]
  },
  {
   "cell_type": "code",
   "execution_count": 12,
   "metadata": {},
   "outputs": [],
   "source": [
    "inner = np.sum(np.sum(shp_norm, axis=2)[:,47:54], axis=1)\n",
    "outer = np.sum(np.sum(shp_norm, axis=2)[:,0:47] + np.sum(shp_norm, axis=2)[:,54:], axis=1)\n",
    "frac = inner/(inner+outer)"
   ]
  },
  {
   "cell_type": "code",
   "execution_count": 13,
   "metadata": {},
   "outputs": [
    {
     "data": {
      "text/plain": [
       "(640,)"
      ]
     },
     "execution_count": 13,
     "metadata": {},
     "output_type": "execute_result"
    }
   ],
   "source": [
    "frac.shape"
   ]
  },
  {
   "cell_type": "markdown",
   "metadata": {},
   "source": [
    "# Export"
   ]
  },
  {
   "cell_type": "code",
   "execution_count": 14,
   "metadata": {},
   "outputs": [],
   "source": [
    "# 5' base\n",
    "base5 = []\n",
    "for x in range(shp_norm.shape[0]):\n",
    "    if x_shp[x][49][0]==1:\n",
    "        base5.append('A')\n",
    "    elif x_shp[x][49][1]==1:\n",
    "        base5.append('C')\n",
    "    elif x_shp[x][49][2]==1:\n",
    "        base5.append('G')\n",
    "    elif x_shp[x][49][3]==1:\n",
    "        base5.append('T')"
   ]
  },
  {
   "cell_type": "code",
   "execution_count": 15,
   "metadata": {},
   "outputs": [],
   "source": [
    "# 3' base\n",
    "base3 = []\n",
    "for x in range(shp_norm.shape[0]):\n",
    "    if x_shp[x][51][0]==1:\n",
    "        base3.append('A')\n",
    "    elif x_shp[x][51][1]==1:\n",
    "        base3.append('C')\n",
    "    elif x_shp[x][51][2]==1:\n",
    "        base3.append('G')\n",
    "    elif x_shp[x][51][3]==1:\n",
    "        base3.append('T')"
   ]
  },
  {
   "cell_type": "code",
   "execution_count": 16,
   "metadata": {},
   "outputs": [],
   "source": [
    "import pandas as pd\n",
    "d = {'EditRate': gt_shp.flatten(), 'PredRate': preds_shp.flatten(), '5Base':base5, '3base':base3, 'ImpFrac':frac.flatten()}\n",
    "df = pd.DataFrame(data=d)"
   ]
  },
  {
   "cell_type": "code",
   "execution_count": null,
   "metadata": {},
   "outputs": [],
   "source": [
    "df.to_csv('A3A.csv', index=False) "
   ]
  },
  {
   "cell_type": "code",
   "execution_count": 17,
   "metadata": {},
   "outputs": [
    {
     "data": {
      "text/plain": [
       "Text(0.5, 1.0, 'Fraction of importance scores in middle 7 bases')"
      ]
     },
     "execution_count": 17,
     "metadata": {},
     "output_type": "execute_result"
    },
    {
     "data": {
      "image/png": "[encoded data removed]",
      "text/plain": [
       "<Figure size 432x288 with 1 Axes>"
      ]
     },
     "metadata": {
      "needs_background": "light"
     },
     "output_type": "display_data"
    }
   ],
   "source": [
    "import matplotlib.pyplot as plt\n",
    "plt.scatter(frac, preds_shp, s=1)\n",
    "plt.hist(frac, bins=50)\n",
    "plt.title('Fraction of importance scores in middle 7 bases')"
   ]
  },
  {
   "cell_type": "code",
   "execution_count": 18,
   "metadata": {},
   "outputs": [
    {
     "data": {
      "image/png": "[encoded data removed]",
      "text/plain": [
       "<Figure size 432x288 with 1 Axes>"
      ]
     },
     "metadata": {
      "needs_background": "light"
     },
     "output_type": "display_data"
    },
    {
     "data": {
      "image/png": "[encoded data removed]",
      "text/plain": [
       "<Figure size 432x288 with 1 Axes>"
      ]
     },
     "metadata": {
      "needs_background": "light"
     },
     "output_type": "display_data"
    },
    {
     "data": {
      "image/png": "[encoded data removed]",
      "text/plain": [
       "<Figure size 432x288 with 1 Axes>"
      ]
     },
     "metadata": {
      "needs_background": "light"
     },
     "output_type": "display_data"
    }
   ],
   "source": [
    "preds_shp.shape\n",
    "frac.shape\n",
    "plt.scatter(frac, preds_shp, s=1)\n",
    "plt.title('Fraction of importance scores in middle 7 bases vs predicted edit rate')\n",
    "plt.show()\n",
    "plt.scatter(frac, gt_shp, s=1)\n",
    "plt.title('Fraction of importance scores in middle 7 bases vs true edit rate')\n",
    "plt.show()\n",
    "plt.scatter(frac, preds_shp-gt_shp, s=1)\n",
    "plt.title('Fraction of importance scores in middle 7 bases vs difference between predicted and true edit rate')\n",
    "plt.show()"
   ]
  },
  {
   "cell_type": "markdown",
   "metadata": {},
   "source": [
    "# Histogram by 5' and 3' bases"
   ]
  },
  {
   "cell_type": "code",
   "execution_count": 19,
   "metadata": {},
   "outputs": [],
   "source": [
    "shp_norm = np.abs(shp*x_shp)"
   ]
  },
  {
   "cell_type": "code",
   "execution_count": 20,
   "metadata": {},
   "outputs": [
    {
     "data": {
      "text/plain": [
       "(640, 101, 4)"
      ]
     },
     "execution_count": 20,
     "metadata": {},
     "output_type": "execute_result"
    }
   ],
   "source": [
    "x_shp.shape"
   ]
  },
  {
   "cell_type": "code",
   "execution_count": 21,
   "metadata": {},
   "outputs": [],
   "source": [
    "# 5' base\n",
    "a_shp = []\n",
    "c_shp = []\n",
    "g_shp = []\n",
    "t_shp = []\n",
    "for x in range(shp_norm.shape[0]):\n",
    "    if x_shp[x][49][0]==1:\n",
    "        a_shp.append(shp_norm[x])\n",
    "    elif x_shp[x][49][1]==1:\n",
    "        c_shp.append(shp_norm[x])\n",
    "    elif x_shp[x][49][2]==1:\n",
    "        g_shp.append(shp_norm[x])\n",
    "    elif x_shp[x][49][3]==1:\n",
    "        t_shp.append(shp_norm[x])"
   ]
  },
  {
   "cell_type": "code",
   "execution_count": 22,
   "metadata": {},
   "outputs": [],
   "source": [
    "shp_a = np.stack(a_shp)\n",
    "shp_c = np.stack(c_shp)   \n",
    "shp_g = np.stack(g_shp)   \n",
    "shp_t = np.stack(t_shp)   "
   ]
  },
  {
   "cell_type": "code",
   "execution_count": 23,
   "metadata": {},
   "outputs": [
    {
     "data": {
      "text/plain": [
       "Text(0.5, 1.0, \"Fraction of importance scores in middle 7 bases with 5' A\")"
      ]
     },
     "execution_count": 23,
     "metadata": {},
     "output_type": "execute_result"
    },
    {
     "data": {
      "image/png": "[encoded data removed]",
      "text/plain": [
       "<Figure size 432x288 with 1 Axes>"
      ]
     },
     "metadata": {
      "needs_background": "light"
     },
     "output_type": "display_data"
    }
   ],
   "source": [
    "import matplotlib.pyplot as plt\n",
    "\n",
    "inner = np.sum(np.sum(shp_a, axis=2)[:,47:54], axis=1)\n",
    "outer = np.sum(np.sum(shp_a, axis=2)[:,0:47] + np.sum(shp_a, axis=2)[:,54:], axis=1)\n",
    "frac = inner/(inner+outer)\n",
    "\n",
    "plt.hist(frac, bins=50)\n",
    "plt.title(\"Fraction of importance scores in middle 7 bases with 5' A\")"
   ]
  },
  {
   "cell_type": "code",
   "execution_count": 24,
   "metadata": {},
   "outputs": [
    {
     "data": {
      "text/plain": [
       "Text(0.5, 1.0, \"Fraction of importance scores in middle 7 bases with 5' C\")"
      ]
     },
     "execution_count": 24,
     "metadata": {},
     "output_type": "execute_result"
    },
    {
     "data": {
      "image/png": "[encoded data removed]",
      "text/plain": [
       "<Figure size 432x288 with 1 Axes>"
      ]
     },
     "metadata": {
      "needs_background": "light"
     },
     "output_type": "display_data"
    }
   ],
   "source": [
    "import matplotlib.pyplot as plt\n",
    "\n",
    "inner = np.sum(np.sum(shp_c, axis=2)[:,47:54], axis=1)\n",
    "outer = np.sum(np.sum(shp_c, axis=2)[:,0:47] + np.sum(shp_c, axis=2)[:,54:], axis=1)\n",
    "frac = inner/(inner+outer)\n",
    "\n",
    "plt.hist(frac, bins=50)\n",
    "plt.title(\"Fraction of importance scores in middle 7 bases with 5' C\")"
   ]
  },
  {
   "cell_type": "code",
   "execution_count": 25,
   "metadata": {},
   "outputs": [
    {
     "data": {
      "text/plain": [
       "Text(0.5, 1.0, \"Fraction of importance scores in middle 7 bases with 5' G\")"
      ]
     },
     "execution_count": 25,
     "metadata": {},
     "output_type": "execute_result"
    },
    {
     "data": {
      "image/png": "[encoded data removed]",
      "text/plain": [
       "<Figure size 432x288 with 1 Axes>"
      ]
     },
     "metadata": {
      "needs_background": "light"
     },
     "output_type": "display_data"
    }
   ],
   "source": [
    "import matplotlib.pyplot as plt\n",
    "\n",
    "inner = np.sum(np.sum(shp_g, axis=2)[:,47:54], axis=1)\n",
    "outer = np.sum(np.sum(shp_g, axis=2)[:,0:47] + np.sum(shp_g, axis=2)[:,54:], axis=1)\n",
    "frac = inner/(inner+outer)\n",
    "\n",
    "plt.hist(frac, bins=50)\n",
    "plt.title(\"Fraction of importance scores in middle 7 bases with 5' G\")"
   ]
  },
  {
   "cell_type": "code",
   "execution_count": 26,
   "metadata": {},
   "outputs": [
    {
     "data": {
      "text/plain": [
       "Text(0.5, 1.0, \"Fraction of importance scores in middle 7 bases with 5' T\")"
      ]
     },
     "execution_count": 26,
     "metadata": {},
     "output_type": "execute_result"
    },
    {
     "data": {
      "image/png": "[encoded data removed]",
      "text/plain": [
       "<Figure size 432x288 with 1 Axes>"
      ]
     },
     "metadata": {
      "needs_background": "light"
     },
     "output_type": "display_data"
    }
   ],
   "source": [
    "import matplotlib.pyplot as plt\n",
    "\n",
    "inner = np.sum(np.sum(shp_t, axis=2)[:,47:54], axis=1)\n",
    "outer = np.sum(np.sum(shp_t, axis=2)[:,0:47] + np.sum(shp_t, axis=2)[:,54:], axis=1)\n",
    "frac = inner/(inner+outer)\n",
    "\n",
    "plt.hist(frac, bins=50)\n",
    "plt.title(\"Fraction of importance scores in middle 7 bases with 5' T\")"
   ]
  },
  {
   "cell_type": "code",
   "execution_count": 27,
   "metadata": {},
   "outputs": [],
   "source": [
    "# 3' base\n",
    "a_shp = []\n",
    "c_shp = []\n",
    "g_shp = []\n",
    "t_shp = []\n",
    "for x in range(shp_norm.shape[0]):\n",
    "    if x_shp[x][51][0]==1:\n",
    "        a_shp.append(shp_norm[x])\n",
    "    elif x_shp[x][51][1]==1:\n",
    "        c_shp.append(shp_norm[x])\n",
    "    elif x_shp[x][51][2]==1:\n",
    "        g_shp.append(shp_norm[x])\n",
    "    elif x_shp[x][51][3]==1:\n",
    "        t_shp.append(shp_norm[x])"
   ]
  },
  {
   "cell_type": "code",
   "execution_count": 28,
   "metadata": {},
   "outputs": [],
   "source": [
    "shp_a = np.stack(a_shp)\n",
    "shp_c = np.stack(c_shp)   \n",
    "shp_g = np.stack(g_shp)   \n",
    "shp_t = np.stack(t_shp)"
   ]
  },
  {
   "cell_type": "code",
   "execution_count": 29,
   "metadata": {},
   "outputs": [
    {
     "data": {
      "text/plain": [
       "Text(0.5, 1.0, \"Fraction of importance scores in middle 7 bases with 3' A\")"
      ]
     },
     "execution_count": 29,
     "metadata": {},
     "output_type": "execute_result"
    },
    {
     "data": {
      "image/png": "[encoded data removed]",
      "text/plain": [
       "<Figure size 432x288 with 1 Axes>"
      ]
     },
     "metadata": {
      "needs_background": "light"
     },
     "output_type": "display_data"
    }
   ],
   "source": [
    "import matplotlib.pyplot as plt\n",
    "\n",
    "inner = np.sum(np.sum(shp_a, axis=2)[:,47:54], axis=1)\n",
    "outer = np.sum(np.sum(shp_a, axis=2)[:,0:47] + np.sum(shp_a, axis=2)[:,54:], axis=1)\n",
    "frac = inner/(inner+outer)\n",
    "\n",
    "plt.hist(frac, bins=50)\n",
    "plt.title(\"Fraction of importance scores in middle 7 bases with 3' A\")"
   ]
  },
  {
   "cell_type": "code",
   "execution_count": 30,
   "metadata": {},
   "outputs": [
    {
     "data": {
      "text/plain": [
       "Text(0.5, 1.0, \"Fraction of importance scores in middle 7 bases with 3' C\")"
      ]
     },
     "execution_count": 30,
     "metadata": {},
     "output_type": "execute_result"
    },
    {
     "data": {
      "image/png": "[encoded data removed]",
      "text/plain": [
       "<Figure size 432x288 with 1 Axes>"
      ]
     },
     "metadata": {
      "needs_background": "light"
     },
     "output_type": "display_data"
    }
   ],
   "source": [
    "import matplotlib.pyplot as plt\n",
    "\n",
    "inner = np.sum(np.sum(shp_c, axis=2)[:,47:54], axis=1)\n",
    "outer = np.sum(np.sum(shp_c, axis=2)[:,0:47] + np.sum(shp_c, axis=2)[:,54:], axis=1)\n",
    "frac = inner/(inner+outer)\n",
    "\n",
    "plt.hist(frac, bins=50)\n",
    "plt.title(\"Fraction of importance scores in middle 7 bases with 3' C\")"
   ]
  },
  {
   "cell_type": "code",
   "execution_count": 31,
   "metadata": {},
   "outputs": [
    {
     "data": {
      "text/plain": [
       "Text(0.5, 1.0, \"Fraction of importance scores in middle 7 bases with 3' G\")"
      ]
     },
     "execution_count": 31,
     "metadata": {},
     "output_type": "execute_result"
    },
    {
     "data": {
      "image/png": "[encoded data removed]",
      "text/plain": [
       "<Figure size 432x288 with 1 Axes>"
      ]
     },
     "metadata": {
      "needs_background": "light"
     },
     "output_type": "display_data"
    }
   ],
   "source": [
    "import matplotlib.pyplot as plt\n",
    "\n",
    "inner = np.sum(np.sum(shp_g, axis=2)[:,47:54], axis=1)\n",
    "outer = np.sum(np.sum(shp_g, axis=2)[:,0:47] + np.sum(shp_g, axis=2)[:,54:], axis=1)\n",
    "frac = inner/(inner+outer)\n",
    "\n",
    "plt.hist(frac, bins=50)\n",
    "plt.title(\"Fraction of importance scores in middle 7 bases with 3' G\")"
   ]
  },
  {
   "cell_type": "code",
   "execution_count": 32,
   "metadata": {},
   "outputs": [
    {
     "data": {
      "text/plain": [
       "Text(0.5, 1.0, \"Fraction of importance scores in middle 7 bases with 3' T\")"
      ]
     },
     "execution_count": 32,
     "metadata": {},
     "output_type": "execute_result"
    },
    {
     "data": {
      "image/png": "[encoded data removed]",
      "text/plain": [
       "<Figure size 432x288 with 1 Axes>"
      ]
     },
     "metadata": {
      "needs_background": "light"
     },
     "output_type": "display_data"
    }
   ],
   "source": [
    "import matplotlib.pyplot as plt\n",
    "\n",
    "inner = np.sum(np.sum(shp_t, axis=2)[:,47:54], axis=1)\n",
    "outer = np.sum(np.sum(shp_t, axis=2)[:,0:47] + np.sum(shp_t, axis=2)[:,54:], axis=1)\n",
    "frac = inner/(inner+outer)\n",
    "\n",
    "plt.hist(frac, bins=50)\n",
    "plt.title(\"Fraction of importance scores in middle 7 bases with 3' T\")"
   ]
  }
 ],
 "metadata": {
  "kernelspec": {
   "display_name": "Python [conda env:tf1.15.2]",
   "language": "python",
   "name": "conda-env-tf1.15.2-py"
  },
  "language_info": {
   "codemirror_mode": {
    "name": "ipython",
    "version": 3
   },
   "file_extension": ".py",
   "mimetype": "text/x-python",
   "name": "python",
   "nbconvert_exporter": "python",
   "pygments_lexer": "ipython3",
   "version": "3.7.7"
  }
 },
 "nbformat": 4,
 "nbformat_minor": 4
}
