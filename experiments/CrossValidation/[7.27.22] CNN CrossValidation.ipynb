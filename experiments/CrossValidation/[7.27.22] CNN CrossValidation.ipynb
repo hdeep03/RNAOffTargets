{
 "cells": [
  {
   "cell_type": "markdown",
   "metadata": {},
   "source": [
    "# 4-fold CNN Cross Validation"
   ]
  },
  {
   "cell_type": "code",
   "execution_count": 1,
   "metadata": {},
   "outputs": [],
   "source": [
    "import tensorflow as tf\n",
    "import os\n",
    "cwd = os.getcwd()\n",
    "os.chdir('../../src/')\n",
    "from dataloader import OneHotEncoder, load_fasta_data, RNASeqDataGenerator\n",
    "os.chdir('../experiments/CrossValidation/')"
   ]
  },
  {
   "cell_type": "code",
   "execution_count": 6,
   "metadata": {},
   "outputs": [
    {
     "name": "stdout",
     "output_type": "stream",
     "text": [
      "Device mapping:\n",
      "/job:localhost/replica:0/task:0/device:XLA_CPU:0 -> device: XLA_CPU device\n",
      "/job:localhost/replica:0/task:0/device:XLA_GPU:0 -> device: XLA_GPU device\n",
      "/job:localhost/replica:0/task:0/device:GPU:0 -> device: 0, name: Tesla K80, pci bus id: 0000:00:04.0, compute capability: 3.7\n",
      "\n"
     ]
    }
   ],
   "source": [
    "os.environ[\"CUDA_DEVICE_ORDER\"] = \"PCI_BUS_ID\"\n",
    "os.environ[\"CUDA_VISIBLE_DEVICES\"]=\"0\"\n",
    "os.environ['TF_CPP_MIN_LOG_LEVEL'] = '2'\n",
    "config = tf.ConfigProto(log_device_placement=True)\n",
    "config.gpu_options.allow_growth=True\n",
    "sess = tf.Session(config=config)"
   ]
  },
  {
   "cell_type": "code",
   "execution_count": 17,
   "metadata": {},
   "outputs": [
    {
     "name": "stderr",
     "output_type": "stream",
     "text": [
      "100%|██████████| 23/23 [00:05<00:00,  4.36it/s]\n"
     ]
    }
   ],
   "source": [
    "from tqdm import tqdm\n",
    "be_type='ABE'\n",
    "sample='158B'\n",
    "be_class='ABEmax'\n",
    "\n",
    "data_dir = \"../../data/raw/{0}/{0}-sequence/\".format(be_type)\n",
    "\n",
    "train_chr = [str(x) for x in range(1, 23)]+['X']\n",
    "\n",
    "train_seqs, train_ers = [], []\n",
    "for rep in tqdm(train_chr):\n",
    "        seq, er = load_fasta_data(sample, rep, data_dir)\n",
    "        train_seqs = seq+train_seqs\n",
    "        train_ers = er+train_ers"
   ]
  },
  {
   "cell_type": "code",
   "execution_count": 18,
   "metadata": {
    "scrolled": false
   },
   "outputs": [
    {
     "name": "stdout",
     "output_type": "stream",
     "text": [
      "Model built!\n",
      "Model: \"sequential_17\"\n",
      "_________________________________________________________________\n",
      "Layer (type)                 Output Shape              Param #   \n",
      "=================================================================\n",
      "conv1d_51 (Conv1D)           (None, 70, 32)            4128      \n",
      "_________________________________________________________________\n",
      "batch_normalization_51 (Batc (None, 70, 32)            128       \n",
      "_________________________________________________________________\n",
      "conv1d_52 (Conv1D)           (None, 39, 32)            32800     \n",
      "_________________________________________________________________\n",
      "batch_normalization_52 (Batc (None, 39, 32)            128       \n",
      "_________________________________________________________________\n",
      "max_pooling1d_17 (MaxPooling (None, 19, 32)            0         \n",
      "_________________________________________________________________\n",
      "conv1d_53 (Conv1D)           (None, 4, 32)             16416     \n",
      "_________________________________________________________________\n",
      "batch_normalization_53 (Batc (None, 4, 32)             128       \n",
      "_________________________________________________________________\n",
      "flatten_17 (Flatten)         (None, 128)               0         \n",
      "_________________________________________________________________\n",
      "dense_34 (Dense)             (None, 16)                2064      \n",
      "_________________________________________________________________\n",
      "dense_35 (Dense)             (None, 1)                 17        \n",
      "=================================================================\n",
      "Total params: 55,809\n",
      "Trainable params: 55,617\n",
      "Non-trainable params: 192\n",
      "_________________________________________________________________\n",
      "None\n",
      "Training model\n",
      "Epoch 1/3\n",
      "1197/1198 [============================>.] - ETA: 0s - loss: 0.0021 - mean_absolute_error: 0.0169 - mean_squared_error: 0.0021Epoch 1/3\n",
      "1597/1198 [=======================================] - 12s 8ms/step - loss: 0.0011 - mean_absolute_error: 0.0139 - mean_squared_error: 0.0011\n",
      "1198/1198 [==============================] - 57s 48ms/step - loss: 0.0021 - mean_absolute_error: 0.0169 - mean_squared_error: 0.0021 - val_loss: 0.0011 - val_mean_absolute_error: 0.0139 - val_mean_squared_error: 0.0011\n",
      "Epoch 2/3\n",
      "1197/1198 [============================>.] - ETA: 0s - loss: 8.0275e-04 - mean_absolute_error: 0.0131 - mean_squared_error: 8.0275e-04 - ETA: 16s - loss: 8.0464e-04 - mean_ - ETA: 1s - loss: 8.0362e-04 - mean_absolEpoch 1/3\n",
      "1597/1198 [=======================================] - 11s 7ms/step - loss: 0.0010 - mean_absolute_error: 0.0144 - mean_squared_error: 0.0010\n",
      "1198/1198 [==============================] - 52s 43ms/step - loss: 8.0242e-04 - mean_absolute_error: 0.0131 - mean_squared_error: 8.0242e-04 - val_loss: 0.0010 - val_mean_absolute_error: 0.0144 - val_mean_squared_error: 0.0010\n",
      "Epoch 3/3\n",
      "1197/1198 [============================>.] - ETA: 0s - loss: 7.6888e-04 - mean_absolute_error: 0.0129 - mean_squared_error: 7.6888e-04Epoch 1/3\n",
      "1597/1198 [=======================================] - 11s 7ms/step - loss: 0.0010 - mean_absolute_error: 0.0144 - mean_squared_error: 0.0010\n",
      "1198/1198 [==============================] - 50s 42ms/step - loss: 7.6836e-04 - mean_absolute_error: 0.0129 - mean_squared_error: 7.6836e-04 - val_loss: 0.0010 - val_mean_absolute_error: 0.0144 - val_mean_squared_error: 0.0010\n",
      "Model trained!\n",
      "Model built!\n",
      "Model: \"sequential_18\"\n",
      "_________________________________________________________________\n",
      "Layer (type)                 Output Shape              Param #   \n",
      "=================================================================\n",
      "conv1d_54 (Conv1D)           (None, 70, 32)            4128      \n",
      "_________________________________________________________________\n",
      "batch_normalization_54 (Batc (None, 70, 32)            128       \n",
      "_________________________________________________________________\n",
      "conv1d_55 (Conv1D)           (None, 39, 32)            32800     \n",
      "_________________________________________________________________\n",
      "batch_normalization_55 (Batc (None, 39, 32)            128       \n",
      "_________________________________________________________________\n",
      "max_pooling1d_18 (MaxPooling (None, 19, 32)            0         \n",
      "_________________________________________________________________\n",
      "conv1d_56 (Conv1D)           (None, 4, 32)             16416     \n",
      "_________________________________________________________________\n",
      "batch_normalization_56 (Batc (None, 4, 32)             128       \n",
      "_________________________________________________________________\n",
      "flatten_18 (Flatten)         (None, 128)               0         \n",
      "_________________________________________________________________\n",
      "dense_36 (Dense)             (None, 16)                2064      \n",
      "_________________________________________________________________\n",
      "dense_37 (Dense)             (None, 1)                 17        \n",
      "=================================================================\n",
      "Total params: 55,809\n",
      "Trainable params: 55,617\n",
      "Non-trainable params: 192\n",
      "_________________________________________________________________\n",
      "None\n",
      "Training model\n",
      "Epoch 1/3\n",
      "1197/1198 [============================>.] - ETA: 0s - loss: 0.0011 - mean_absolute_error: 0.0148 - mean_squared_error: 0.0011Epoch 1/3\n",
      "1597/1198 [=======================================] - 12s 8ms/step - loss: 7.7932e-04 - mean_absolute_error: 0.0142 - mean_squared_error: 8.7689e-04\n",
      "1198/1198 [==============================] - 56s 47ms/step - loss: 0.0010 - mean_absolute_error: 0.0148 - mean_squared_error: 0.0010 - val_loss: 8.7689e-04 - val_mean_absolute_error: 0.0142 - val_mean_squared_error: 8.7689e-04\n",
      "Epoch 2/3\n",
      "1197/1198 [============================>.] - ETA: 0s - loss: 8.5566e-04 - mean_absolute_error: 0.0137 - mean_squared_error: 8.5565e-04Epoch 1/3\n",
      "1597/1198 [=======================================] - 11s 7ms/step - loss: 7.4925e-04 - mean_absolute_error: 0.0128 - mean_squared_error: 8.4470e-04\n",
      "1198/1198 [==============================] - 50s 42ms/step - loss: 8.5502e-04 - mean_absolute_error: 0.0137 - mean_squared_error: 8.5502e-04 - val_loss: 8.4470e-04 - val_mean_absolute_error: 0.0128 - val_mean_squared_error: 8.4470e-04\n",
      "Epoch 3/3\n",
      "1197/1198 [============================>.] - ETA: 0s - loss: 8.2004e-04 - mean_absolute_error: 0.0135 - mean_squared_error: 8.2004e-04Epoch 1/3\n",
      "1597/1198 [=======================================] - 11s 7ms/step - loss: 7.4592e-04 - mean_absolute_error: 0.0127 - mean_squared_error: 8.3853e-04\n",
      "1198/1198 [==============================] - 50s 42ms/step - loss: 8.1945e-04 - mean_absolute_error: 0.0134 - mean_squared_error: 8.1945e-04 - val_loss: 8.3853e-04 - val_mean_absolute_error: 0.0127 - val_mean_squared_error: 8.3853e-04\n",
      "Model trained!\n",
      "Model built!\n",
      "Model: \"sequential_19\"\n",
      "_________________________________________________________________\n",
      "Layer (type)                 Output Shape              Param #   \n",
      "=================================================================\n",
      "conv1d_57 (Conv1D)           (None, 70, 32)            4128      \n",
      "_________________________________________________________________\n",
      "batch_normalization_57 (Batc (None, 70, 32)            128       \n",
      "_________________________________________________________________\n",
      "conv1d_58 (Conv1D)           (None, 39, 32)            32800     \n",
      "_________________________________________________________________\n",
      "batch_normalization_58 (Batc (None, 39, 32)            128       \n",
      "_________________________________________________________________\n",
      "max_pooling1d_19 (MaxPooling (None, 19, 32)            0         \n",
      "_________________________________________________________________\n",
      "conv1d_59 (Conv1D)           (None, 4, 32)             16416     \n",
      "_________________________________________________________________\n",
      "batch_normalization_59 (Batc (None, 4, 32)             128       \n",
      "_________________________________________________________________\n",
      "flatten_19 (Flatten)         (None, 128)               0         \n",
      "_________________________________________________________________\n",
      "dense_38 (Dense)             (None, 16)                2064      \n",
      "_________________________________________________________________\n",
      "dense_39 (Dense)             (None, 1)                 17        \n",
      "=================================================================\n",
      "Total params: 55,809\n",
      "Trainable params: 55,617\n",
      "Non-trainable params: 192\n",
      "_________________________________________________________________\n",
      "None\n",
      "Training model\n"
     ]
    },
    {
     "name": "stdout",
     "output_type": "stream",
     "text": [
      "Epoch 1/3\n",
      "1197/1198 [============================>.] - ETA: 0s - loss: 0.0011 - mean_absolute_error: 0.0149 - mean_squared_error: 0.0011 ETA: 4s - loss: 0.0011 - mean_absEpoch 1/3\n",
      "1597/1198 [=======================================] - 13s 8ms/step - loss: 8.2076e-04 - mean_absolute_error: 0.0125 - mean_squared_error: 8.3526e-04\n",
      "1198/1198 [==============================] - 57s 47ms/step - loss: 0.0011 - mean_absolute_error: 0.0149 - mean_squared_error: 0.0011 - val_loss: 8.3526e-04 - val_mean_absolute_error: 0.0125 - val_mean_squared_error: 8.3526e-04\n",
      "Epoch 2/3\n",
      "1197/1198 [============================>.] - ETA: 0s - loss: 8.7411e-04 - mean_absolute_error: 0.0138 - mean_squared_error: 8.7411e-04Epoch 1/3\n",
      "1597/1198 [=======================================] - 11s 7ms/step - loss: 7.8824e-04 - mean_absolute_error: 0.0131 - mean_squared_error: 8.0464e-04\n",
      "1198/1198 [==============================] - 52s 43ms/step - loss: 8.7360e-04 - mean_absolute_error: 0.0138 - mean_squared_error: 8.7360e-04 - val_loss: 8.0464e-04 - val_mean_absolute_error: 0.0131 - val_mean_squared_error: 8.0464e-04\n",
      "Epoch 3/3\n",
      "1197/1198 [============================>.] - ETA: 0s - loss: 8.3381e-04 - mean_absolute_error: 0.0136 - mean_squared_error: 8.3381e-04 - ETA: 30s - loss: 8.4214e-04 - mean_absolutEpoch 1/3\n",
      "1597/1198 [=======================================] - 12s 7ms/step - loss: 7.9031e-04 - mean_absolute_error: 0.0125 - mean_squared_error: 8.0690e-04\n",
      "1198/1198 [==============================] - 52s 43ms/step - loss: 8.3321e-04 - mean_absolute_error: 0.0136 - mean_squared_error: 8.3321e-04 - val_loss: 8.0690e-04 - val_mean_absolute_error: 0.0125 - val_mean_squared_error: 8.0690e-04\n",
      "Model trained!\n",
      "Model built!\n",
      "Model: \"sequential_20\"\n",
      "_________________________________________________________________\n",
      "Layer (type)                 Output Shape              Param #   \n",
      "=================================================================\n",
      "conv1d_60 (Conv1D)           (None, 70, 32)            4128      \n",
      "_________________________________________________________________\n",
      "batch_normalization_60 (Batc (None, 70, 32)            128       \n",
      "_________________________________________________________________\n",
      "conv1d_61 (Conv1D)           (None, 39, 32)            32800     \n",
      "_________________________________________________________________\n",
      "batch_normalization_61 (Batc (None, 39, 32)            128       \n",
      "_________________________________________________________________\n",
      "max_pooling1d_20 (MaxPooling (None, 19, 32)            0         \n",
      "_________________________________________________________________\n",
      "conv1d_62 (Conv1D)           (None, 4, 32)             16416     \n",
      "_________________________________________________________________\n",
      "batch_normalization_62 (Batc (None, 4, 32)             128       \n",
      "_________________________________________________________________\n",
      "flatten_20 (Flatten)         (None, 128)               0         \n",
      "_________________________________________________________________\n",
      "dense_40 (Dense)             (None, 16)                2064      \n",
      "_________________________________________________________________\n",
      "dense_41 (Dense)             (None, 1)                 17        \n",
      "=================================================================\n",
      "Total params: 55,809\n",
      "Trainable params: 55,617\n",
      "Non-trainable params: 192\n",
      "_________________________________________________________________\n",
      "None\n",
      "Training model\n",
      "Epoch 1/3\n",
      "1197/1198 [============================>.] - ETA: 0s - loss: 0.0014 - mean_absolute_error: 0.0156 - mean_squared_error: 0.0014Epoch 1/3\n",
      "1597/1198 [=======================================] - 13s 8ms/step - loss: 8.7399e-04 - mean_absolute_error: 0.0127 - mean_squared_error: 7.8492e-04\n",
      "1198/1198 [==============================] - 58s 48ms/step - loss: 0.0014 - mean_absolute_error: 0.0156 - mean_squared_error: 0.0014 - val_loss: 7.8493e-04 - val_mean_absolute_error: 0.0127 - val_mean_squared_error: 7.8492e-04\n",
      "Epoch 2/3\n",
      "1196/1198 [============================>.] - ETA: 0s - loss: 9.0437e-04 - mean_absolute_error: 0.0139 - mean_squared_error: 9.0437e-04 ETA: 5s - loss: 8.9776e-04 - mean_absolute_error: 0.0138 - me - ETA: 4s - loss: 8.9970e-04 - mean_absolute_error: 0.0138 - mean_squared_error: 8.9970e- - ETA: 4s - loss: 8.9893e-0 - ETA: 2s - loss: 9.0289e-04 - Epoch 1/3\n",
      "1597/1198 [=======================================] - 11s 7ms/step - loss: 8.3898e-04 - mean_absolute_error: 0.0127 - mean_squared_error: 7.4967e-04\n",
      "1198/1198 [==============================] - 52s 43ms/step - loss: 9.0327e-04 - mean_absolute_error: 0.0139 - mean_squared_error: 9.0327e-04 - val_loss: 7.4967e-04 - val_mean_absolute_error: 0.0127 - val_mean_squared_error: 7.4967e-04\n",
      "Epoch 3/3\n",
      "1197/1198 [============================>.] - ETA: 0s - loss: 8.5841e-04 - mean_absolute_error: 0.0136 - mean_squared_error: 8.5841e-04 - ETA: 30s - loss: 8.7907e-04 - mean_absolu - EEpoch 1/3\n",
      "1597/1198 [=======================================] - 11s 7ms/step - loss: 8.0580e-04 - mean_absolute_error: 0.0123 - mean_squared_error: 7.4272e-04\n",
      "1198/1198 [==============================] - 51s 42ms/step - loss: 8.5783e-04 - mean_absolute_error: 0.0136 - mean_squared_error: 8.5783e-04 - val_loss: 7.4271e-04 - val_mean_absolute_error: 0.0123 - val_mean_squared_error: 7.4272e-04\n",
      "Model trained!\n"
     ]
    }
   ],
   "source": [
    "from tensorflow.keras.models import Sequential\n",
    "from tensorflow.keras.layers import Dense, Conv1D, Flatten, BatchNormalization, MaxPooling1D, Dropout\n",
    "\n",
    "for fold in range(1, 5):\n",
    "    splits = len(train_seqs)//4\n",
    "    fold_test_seqs = train_seqs[splits*(fold-1):splits*fold]\n",
    "    fold_test_ers = train_ers[splits*(fold-1):splits*fold]\n",
    "    fold_train_seqs = train_seqs[0:splits*(fold-1)] + train_seqs[splits*fold:]\n",
    "    fold_train_ers = train_ers[0:splits*(fold-1)]  + train_ers[splits*fold:]\n",
    "    traingen = RNASeqDataGenerator(fold_train_seqs, fold_train_ers, batch_size=1024, logits=False)\n",
    "    testgen = RNASeqDataGenerator(fold_test_seqs, fold_test_ers, logits=False)\n",
    "    #create model\n",
    "    model = Sequential()\n",
    "    #add model layers\n",
    "    model.add(Conv1D(32, kernel_size=32, activation='relu', input_shape=(101,4)))\n",
    "    model.add(BatchNormalization())\n",
    "    model.add(Conv1D(32, kernel_size=32, activation='relu'))\n",
    "    model.add(BatchNormalization())\n",
    "    model.add(MaxPooling1D())\n",
    "    model.add(Conv1D(32, kernel_size=16, activation='relu'))\n",
    "    model.add(BatchNormalization())\n",
    "    model.add(Flatten())\n",
    "    model.add(Dense(16, activation = 'relu'))\n",
    "    model.add(Dense(1, activation = 'sigmoid'))\n",
    "    model.compile(optimizer=\"RMSprop\", loss=\"mse\", metrics=[\"mae\", 'mse'])\n",
    "    print('Model built!')\n",
    "    print(model.summary())\n",
    "    print('Training model')\n",
    "    history = model.fit(traingen, validation_data=testgen, workers=10, use_multiprocessing=True, epochs=3)\n",
    "    print('Model trained!')\n",
    "    model.save(\"{}/{}Fold-{}.h5\".format(be_class, sample, fold))"
   ]
  },
  {
   "cell_type": "markdown",
   "metadata": {},
   "source": [
    "# Model Performance Metrics"
   ]
  },
  {
   "cell_type": "code",
   "execution_count": 37,
   "metadata": {
    "scrolled": false
   },
   "outputs": [
    {
     "name": "stderr",
     "output_type": "stream",
     "text": [
      "100%|██████████| 23/23 [00:05<00:00,  4.00it/s]\n",
      "100%|██████████| 1879/1879 [00:13<00:00, 135.80it/s]\n",
      "100%|██████████| 1879/1879 [00:13<00:00, 135.34it/s]\n",
      "100%|██████████| 1879/1879 [00:13<00:00, 134.73it/s]\n",
      "100%|██████████| 1879/1879 [00:13<00:00, 135.68it/s]\n"
     ]
    }
   ],
   "source": [
    "be_type = 'CBE'\n",
    "be_class = 'A3A'\n",
    "sample = '160F'\n",
    "from scipy import stats\n",
    "from tqdm import tqdm\n",
    "import numpy as np\n",
    "import tensorflow as tf\n",
    "\n",
    "def rmse(x, y):\n",
    "    return np.sqrt(np.mean((x-y)**2))\n",
    "\n",
    "def spearman(x, y):\n",
    "        return stats.spearmanr(x, y)[0]\n",
    "def pearson(x, y):\n",
    "        return stats.pearsonr(x, y)[0]\n",
    "    \n",
    "data_dir = \"../../data/raw/{0}/{0}-sequence/\".format(be_type)\n",
    "\n",
    "train_chr = [str(x) for x in range(1, 23)]+['X']\n",
    "\n",
    "train_seqs, train_ers = [], []\n",
    "for rep in tqdm(train_chr):\n",
    "        seq, er = load_fasta_data(sample, rep, data_dir)\n",
    "        train_seqs = seq+train_seqs\n",
    "        train_ers = er+train_ers\n",
    "        \n",
    "splits = len(train_seqs)//4   \n",
    "\n",
    "r = []\n",
    "s = []\n",
    "p = []\n",
    " \n",
    "for fold in range(1, 5): \n",
    "    model = tf.keras.models.load_model(\"{}/{}Fold-{}.h5\".format(be_class, sample, fold))\n",
    "    test_seqs2 = train_seqs[splits*(fold-1):splits*fold]\n",
    "    test_ers = train_ers[splits*(fold-1):splits*fold]\n",
    "    testgen = RNASeqDataGenerator(test_seqs2, test_ers, logits=False)\n",
    "    preds = model.predict(testgen)\n",
    "    preds = np.squeeze(preds, axis=1)\n",
    "    test_er = np.hstack([y for x, y in tqdm(testgen)])\n",
    "    r.append(rmse(preds, test_er))\n",
    "    s.append(spearman(preds, test_er))\n",
    "    p.append(pearson(preds, test_er))"
   ]
  },
  {
   "cell_type": "code",
   "execution_count": 38,
   "metadata": {},
   "outputs": [
    {
     "data": {
      "text/plain": [
       "[0.02601557493983662,\n",
       " 0.02629827702666776,\n",
       " 0.026410987101021598,\n",
       " 0.026564142092027662]"
      ]
     },
     "execution_count": 38,
     "metadata": {},
     "output_type": "execute_result"
    }
   ],
   "source": [
    "r"
   ]
  },
  {
   "cell_type": "code",
   "execution_count": 39,
   "metadata": {},
   "outputs": [
    {
     "data": {
      "text/plain": [
       "[0.5800935183019567,\n",
       " 0.5883328203890918,\n",
       " 0.5828996595483633,\n",
       " 0.5846704188515293]"
      ]
     },
     "execution_count": 39,
     "metadata": {},
     "output_type": "execute_result"
    }
   ],
   "source": [
    "p"
   ]
  },
  {
   "cell_type": "code",
   "execution_count": 40,
   "metadata": {},
   "outputs": [
    {
     "data": {
      "text/plain": [
       "[0.4040750836036608,\n",
       " 0.43109797593980853,\n",
       " 0.4299068990295353,\n",
       " 0.44019899793777456]"
      ]
     },
     "execution_count": 40,
     "metadata": {},
     "output_type": "execute_result"
    }
   ],
   "source": [
    "s"
   ]
  },
  {
   "cell_type": "code",
   "execution_count": 41,
   "metadata": {},
   "outputs": [
    {
     "data": {
      "text/plain": [
       "([0.02601557493983662,\n",
       "  0.02629827702666776,\n",
       "  0.026410987101021598,\n",
       "  0.026564142092027662],\n",
       " [0.4040750836036608,\n",
       "  0.43109797593980853,\n",
       "  0.4299068990295353,\n",
       "  0.44019899793777456],\n",
       " [0.5800935183019567,\n",
       "  0.5883328203890918,\n",
       "  0.5828996595483633,\n",
       "  0.5846704188515293])"
      ]
     },
     "execution_count": 41,
     "metadata": {},
     "output_type": "execute_result"
    }
   ],
   "source": [
    "r, s, p"
   ]
  },
  {
   "cell_type": "code",
   "execution_count": 42,
   "metadata": {},
   "outputs": [],
   "source": [
    "import pandas as pd\n",
    "df = pd.DataFrame({'Fold':range(1,5), 'RMSE':r, 'SpearmanR':s, 'PearsonR':p})"
   ]
  },
  {
   "cell_type": "code",
   "execution_count": 43,
   "metadata": {},
   "outputs": [
    {
     "data": {
      "text/html": [
       "<div>\n",
       "<style scoped>\n",
       "    .dataframe tbody tr th:only-of-type {\n",
       "        vertical-align: middle;\n",
       "    }\n",
       "\n",
       "    .dataframe tbody tr th {\n",
       "        vertical-align: top;\n",
       "    }\n",
       "\n",
       "    .dataframe thead th {\n",
       "        text-align: right;\n",
       "    }\n",
       "</style>\n",
       "<table border=\"1\" class=\"dataframe\">\n",
       "  <thead>\n",
       "    <tr style=\"text-align: right;\">\n",
       "      <th></th>\n",
       "      <th>Fold</th>\n",
       "      <th>RMSE</th>\n",
       "      <th>SpearmanR</th>\n",
       "      <th>PearsonR</th>\n",
       "    </tr>\n",
       "  </thead>\n",
       "  <tbody>\n",
       "    <tr>\n",
       "      <th>0</th>\n",
       "      <td>1</td>\n",
       "      <td>0.026016</td>\n",
       "      <td>0.404075</td>\n",
       "      <td>0.580094</td>\n",
       "    </tr>\n",
       "    <tr>\n",
       "      <th>1</th>\n",
       "      <td>2</td>\n",
       "      <td>0.026298</td>\n",
       "      <td>0.431098</td>\n",
       "      <td>0.588333</td>\n",
       "    </tr>\n",
       "    <tr>\n",
       "      <th>2</th>\n",
       "      <td>3</td>\n",
       "      <td>0.026411</td>\n",
       "      <td>0.429907</td>\n",
       "      <td>0.582900</td>\n",
       "    </tr>\n",
       "    <tr>\n",
       "      <th>3</th>\n",
       "      <td>4</td>\n",
       "      <td>0.026564</td>\n",
       "      <td>0.440199</td>\n",
       "      <td>0.584670</td>\n",
       "    </tr>\n",
       "  </tbody>\n",
       "</table>\n",
       "</div>"
      ],
      "text/plain": [
       "   Fold      RMSE  SpearmanR  PearsonR\n",
       "0     1  0.026016   0.404075  0.580094\n",
       "1     2  0.026298   0.431098  0.588333\n",
       "2     3  0.026411   0.429907  0.582900\n",
       "3     4  0.026564   0.440199  0.584670"
      ]
     },
     "execution_count": 43,
     "metadata": {},
     "output_type": "execute_result"
    }
   ],
   "source": [
    "df.head()"
   ]
  },
  {
   "cell_type": "code",
   "execution_count": 44,
   "metadata": {},
   "outputs": [],
   "source": [
    "df.to_csv(\"A3A/160Fresults.csv\")"
   ]
  }
 ],
 "metadata": {
  "kernelspec": {
   "display_name": "Python [conda env:tf1.15.2]",
   "language": "python",
   "name": "conda-env-tf1.15.2-py"
  },
  "language_info": {
   "codemirror_mode": {
    "name": "ipython",
    "version": 3
   },
   "file_extension": ".py",
   "mimetype": "text/x-python",
   "name": "python",
   "nbconvert_exporter": "python",
   "pygments_lexer": "ipython3",
   "version": "3.7.7"
  }
 },
 "nbformat": 4,
 "nbformat_minor": 4
}
