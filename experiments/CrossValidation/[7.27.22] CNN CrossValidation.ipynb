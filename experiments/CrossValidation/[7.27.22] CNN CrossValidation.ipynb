{
 "cells": [
  {
   "cell_type": "markdown",
   "metadata": {},
   "source": [
    "# 4-fold CNN Cross Validation"
   ]
  },
  {
   "cell_type": "code",
   "execution_count": 1,
   "metadata": {},
   "outputs": [],
   "source": [
    "import tensorflow as tf\n",
    "import os\n",
    "cwd = os.getcwd()\n",
    "os.chdir('../../src/')\n",
    "from dataloader import OneHotEncoder, load_fasta_data, RNASeqDataGenerator\n",
    "os.chdir('../experiments/CrossValidation/')"
   ]
  },
  {
   "cell_type": "code",
   "execution_count": 2,
   "metadata": {},
   "outputs": [
    {
     "name": "stdout",
     "output_type": "stream",
     "text": [
      "Device mapping:\n",
      "/job:localhost/replica:0/task:0/device:XLA_CPU:0 -> device: XLA_CPU device\n",
      "/job:localhost/replica:0/task:0/device:XLA_GPU:0 -> device: XLA_GPU device\n",
      "/job:localhost/replica:0/task:0/device:GPU:0 -> device: 0, name: Tesla K80, pci bus id: 0000:00:04.0, compute capability: 3.7\n",
      "\n"
     ]
    }
   ],
   "source": [
    "os.environ[\"CUDA_DEVICE_ORDER\"] = \"PCI_BUS_ID\"\n",
    "os.environ[\"CUDA_VISIBLE_DEVICES\"]=\"0\"\n",
    "os.environ['TF_CPP_MIN_LOG_LEVEL'] = '2'\n",
    "config = tf.ConfigProto(log_device_placement=True)\n",
    "config.gpu_options.allow_growth=True\n",
    "sess = tf.Session(config=config)"
   ]
  },
  {
   "cell_type": "code",
   "execution_count": 38,
   "metadata": {},
   "outputs": [
    {
     "name": "stderr",
     "output_type": "stream",
     "text": [
      "100%|██████████| 23/23 [00:08<00:00,  2.59it/s]\n"
     ]
    }
   ],
   "source": [
    "from tqdm import tqdm\n",
    "be_type='CBE'\n",
    "sample='162F'\n",
    "be_class='A3A'\n",
    "\n",
    "data_dir = \"../../data/raw/{0}/{0}-sequence/\".format(be_type)\n",
    "\n",
    "train_chr = [str(x) for x in range(1, 23)]+['X']\n",
    "\n",
    "train_seqs, train_ers = [], []\n",
    "for rep in tqdm(train_chr):\n",
    "        seq, er = load_fasta_data(sample, rep, data_dir)\n",
    "        train_seqs = seq+train_seqs\n",
    "        train_ers = er+train_ers"
   ]
  },
  {
   "cell_type": "code",
   "execution_count": 39,
   "metadata": {
    "scrolled": false
   },
   "outputs": [
    {
     "name": "stdout",
     "output_type": "stream",
     "text": [
      "Model built!\n",
      "Model: \"sequential_4\"\n",
      "_________________________________________________________________\n",
      "Layer (type)                 Output Shape              Param #   \n",
      "=================================================================\n",
      "conv1d_12 (Conv1D)           (None, 70, 32)            4128      \n",
      "_________________________________________________________________\n",
      "batch_normalization_12 (Batc (None, 70, 32)            128       \n",
      "_________________________________________________________________\n",
      "conv1d_13 (Conv1D)           (None, 39, 32)            32800     \n",
      "_________________________________________________________________\n",
      "batch_normalization_13 (Batc (None, 39, 32)            128       \n",
      "_________________________________________________________________\n",
      "max_pooling1d_4 (MaxPooling1 (None, 19, 32)            0         \n",
      "_________________________________________________________________\n",
      "conv1d_14 (Conv1D)           (None, 4, 32)             16416     \n",
      "_________________________________________________________________\n",
      "batch_normalization_14 (Batc (None, 4, 32)             128       \n",
      "_________________________________________________________________\n",
      "flatten_4 (Flatten)          (None, 128)               0         \n",
      "_________________________________________________________________\n",
      "dense_8 (Dense)              (None, 16)                2064      \n",
      "_________________________________________________________________\n",
      "dense_9 (Dense)              (None, 1)                 17        \n",
      "=================================================================\n",
      "Total params: 55,809\n",
      "Trainable params: 55,617\n",
      "Non-trainable params: 192\n",
      "_________________________________________________________________\n",
      "None\n",
      "Training model\n",
      "Epoch 1/3\n",
      "2077/2079 [============================>.] - ETA: 0s - loss: 0.0012 - mean_absolute_error: 0.0107 - mean_squared_error: 0.0012Epoch 1/3\n",
      "2772/2079 [========================================] - 20s 7ms/step - loss: 6.4838e-04 - mean_absolute_error: 0.0076 - mean_squared_error: 7.7718e-04\n",
      "2079/2079 [==============================] - 93s 45ms/step - loss: 0.0012 - mean_absolute_error: 0.0107 - mean_squared_error: 0.0012 - val_loss: 7.7718e-04 - val_mean_absolute_error: 0.0076 - val_mean_squared_error: 7.7718e-04\n",
      "Epoch 2/3\n",
      "2078/2079 [============================>.] - ETA: 0s - loss: 7.6366e-04 - mean_absolute_error: 0.0091 - mean_squared_error: 7.6366e-04Epoch 1/3\n",
      "2772/2079 [========================================] - 18s 7ms/step - loss: 6.1786e-04 - mean_absolute_error: 0.0090 - mean_squared_error: 7.2674e-04\n",
      "2079/2079 [==============================] - 88s 43ms/step - loss: 7.6376e-04 - mean_absolute_error: 0.0091 - mean_squared_error: 7.6376e-04 - val_loss: 7.2674e-04 - val_mean_absolute_error: 0.0090 - val_mean_squared_error: 7.2674e-04\n",
      "Epoch 3/3\n",
      "2077/2079 [============================>.] - ETA: 0s - loss: 7.3298e-04 - mean_absolute_error: 0.0090 - mean_squared_error: 7.3298e-04Epoch 1/3\n",
      "2772/2079 [========================================] - 18s 7ms/step - loss: 5.9217e-04 - mean_absolute_error: 0.0078 - mean_squared_error: 7.2327e-04\n",
      "2079/2079 [==============================] - 88s 43ms/step - loss: 7.3272e-04 - mean_absolute_error: 0.0090 - mean_squared_error: 7.3272e-04 - val_loss: 7.2327e-04 - val_mean_absolute_error: 0.0078 - val_mean_squared_error: 7.2327e-04\n",
      "Model trained!\n",
      "Model built!\n",
      "Model: \"sequential_5\"\n",
      "_________________________________________________________________\n",
      "Layer (type)                 Output Shape              Param #   \n",
      "=================================================================\n",
      "conv1d_15 (Conv1D)           (None, 70, 32)            4128      \n",
      "_________________________________________________________________\n",
      "batch_normalization_15 (Batc (None, 70, 32)            128       \n",
      "_________________________________________________________________\n",
      "conv1d_16 (Conv1D)           (None, 39, 32)            32800     \n",
      "_________________________________________________________________\n",
      "batch_normalization_16 (Batc (None, 39, 32)            128       \n",
      "_________________________________________________________________\n",
      "max_pooling1d_5 (MaxPooling1 (None, 19, 32)            0         \n",
      "_________________________________________________________________\n",
      "conv1d_17 (Conv1D)           (None, 4, 32)             16416     \n",
      "_________________________________________________________________\n",
      "batch_normalization_17 (Batc (None, 4, 32)             128       \n",
      "_________________________________________________________________\n",
      "flatten_5 (Flatten)          (None, 128)               0         \n",
      "_________________________________________________________________\n",
      "dense_10 (Dense)             (None, 16)                2064      \n",
      "_________________________________________________________________\n",
      "dense_11 (Dense)             (None, 1)                 17        \n",
      "=================================================================\n",
      "Total params: 55,809\n",
      "Trainable params: 55,617\n",
      "Non-trainable params: 192\n",
      "_________________________________________________________________\n",
      "None\n",
      "Training model\n",
      "Epoch 1/3\n",
      "2077/2079 [============================>.] - ETA: 0s - loss: 0.0012 - mean_absolute_error: 0.0108 - mean_squared_error: 0.0012Epoch 1/3\n",
      "2772/2079 [========================================] - 20s 7ms/step - loss: 7.1897e-04 - mean_absolute_error: 0.0088 - mean_squared_error: 7.8341e-04\n",
      "2079/2079 [==============================] - 94s 45ms/step - loss: 0.0012 - mean_absolute_error: 0.0108 - mean_squared_error: 0.0012 - val_loss: 7.8341e-04 - val_mean_absolute_error: 0.0088 - val_mean_squared_error: 7.8341e-04\n",
      "Epoch 2/3\n",
      "2077/2079 [============================>.] - ETA: 0s - loss: 7.6038e-04 - mean_absolute_error: 0.0091 - mean_squared_error: 7.6037e-04Epoch 1/3\n",
      "2772/2079 [========================================] - 18s 7ms/step - loss: 6.9647e-04 - mean_absolute_error: 0.0094 - mean_squared_error: 7.6123e-04\n",
      "2079/2079 [==============================] - 88s 42ms/step - loss: 7.6030e-04 - mean_absolute_error: 0.0091 - mean_squared_error: 7.6030e-04 - val_loss: 7.6123e-04 - val_mean_absolute_error: 0.0094 - val_mean_squared_error: 7.6123e-04\n",
      "Epoch 3/3\n",
      "2077/2079 [============================>.] - ETA: 0s - loss: 7.2483e-04 - mean_absolute_error: 0.0090 - mean_squared_error: 7.2483e-04 - ETA: 1Epoch 1/3\n",
      "2772/2079 [========================================] - 18s 7ms/step - loss: 6.8043e-04 - mean_absolute_error: 0.0086 - mean_squared_error: 7.4995e-04\n",
      "2079/2079 [==============================] - 87s 42ms/step - loss: 7.2482e-04 - mean_absolute_error: 0.0090 - mean_squared_error: 7.2482e-04 - val_loss: 7.4995e-04 - val_mean_absolute_error: 0.0086 - val_mean_squared_error: 7.4995e-04\n",
      "Model trained!\n",
      "Model built!\n",
      "Model: \"sequential_6\"\n",
      "_________________________________________________________________\n",
      "Layer (type)                 Output Shape              Param #   \n",
      "=================================================================\n",
      "conv1d_18 (Conv1D)           (None, 70, 32)            4128      \n",
      "_________________________________________________________________\n",
      "batch_normalization_18 (Batc (None, 70, 32)            128       \n",
      "_________________________________________________________________\n",
      "conv1d_19 (Conv1D)           (None, 39, 32)            32800     \n",
      "_________________________________________________________________\n",
      "batch_normalization_19 (Batc (None, 39, 32)            128       \n",
      "_________________________________________________________________\n",
      "max_pooling1d_6 (MaxPooling1 (None, 19, 32)            0         \n",
      "_________________________________________________________________\n",
      "conv1d_20 (Conv1D)           (None, 4, 32)             16416     \n",
      "_________________________________________________________________\n",
      "batch_normalization_20 (Batc (None, 4, 32)             128       \n",
      "_________________________________________________________________\n",
      "flatten_6 (Flatten)          (None, 128)               0         \n",
      "_________________________________________________________________\n",
      "dense_12 (Dense)             (None, 16)                2064      \n",
      "_________________________________________________________________\n",
      "dense_13 (Dense)             (None, 1)                 17        \n",
      "=================================================================\n",
      "Total params: 55,809\n",
      "Trainable params: 55,617\n",
      "Non-trainable params: 192\n",
      "_________________________________________________________________\n",
      "None\n",
      "Training model\n"
     ]
    },
    {
     "name": "stdout",
     "output_type": "stream",
     "text": [
      "Epoch 1/3\n",
      "2077/2079 [============================>.] - ETA: 0s - loss: 0.0010 - mean_absolute_error: 0.0104 - mean_squared_error: 0.0010 ETA: 2s - loss: 0.0Epoch 1/3\n",
      "2772/2079 [========================================] - 20s 7ms/step - loss: 8.3879e-04 - mean_absolute_error: 0.0087 - mean_squared_error: 7.8428e-04\n",
      "2079/2079 [==============================] - 94s 45ms/step - loss: 0.0010 - mean_absolute_error: 0.0104 - mean_squared_error: 0.0010 - val_loss: 7.8428e-04 - val_mean_absolute_error: 0.0087 - val_mean_squared_error: 7.8428e-04\n",
      "Epoch 2/3\n",
      "2077/2079 [============================>.] - ETA: 0s - loss: 7.5692e-04 - mean_absolute_error: 0.0090 - mean_squared_error: 7.5692e-04Epoch 1/3\n",
      "2772/2079 [========================================] - 18s 7ms/step - loss: 7.7351e-04 - mean_absolute_error: 0.0087 - mean_squared_error: 7.5180e-04\n",
      "2079/2079 [==============================] - 88s 42ms/step - loss: 7.5680e-04 - mean_absolute_error: 0.0090 - mean_squared_error: 7.5680e-04 - val_loss: 7.5180e-04 - val_mean_absolute_error: 0.0087 - val_mean_squared_error: 7.5180e-04\n",
      "Epoch 3/3\n",
      "2078/2079 [============================>.] - ETA: 0s - loss: 7.2261e-04 - mean_absolute_error: 0.0088 - mean_squared_error: 7.2261e-04 ETA: 0s - loss: 7.2044e-04 - mean_absolute_error: 0.0088 - mean_sEpoch 1/3\n",
      "2772/2079 [========================================] - 19s 7ms/step - loss: 7.4422e-04 - mean_absolute_error: 0.0091 - mean_squared_error: 7.4236e-04\n",
      "2079/2079 [==============================] - 88s 42ms/step - loss: 7.2272e-04 - mean_absolute_error: 0.0088 - mean_squared_error: 7.2272e-04 - val_loss: 7.4236e-04 - val_mean_absolute_error: 0.0091 - val_mean_squared_error: 7.4236e-04\n",
      "Model trained!\n",
      "Model built!\n",
      "Model: \"sequential_7\"\n",
      "_________________________________________________________________\n",
      "Layer (type)                 Output Shape              Param #   \n",
      "=================================================================\n",
      "conv1d_21 (Conv1D)           (None, 70, 32)            4128      \n",
      "_________________________________________________________________\n",
      "batch_normalization_21 (Batc (None, 70, 32)            128       \n",
      "_________________________________________________________________\n",
      "conv1d_22 (Conv1D)           (None, 39, 32)            32800     \n",
      "_________________________________________________________________\n",
      "batch_normalization_22 (Batc (None, 39, 32)            128       \n",
      "_________________________________________________________________\n",
      "max_pooling1d_7 (MaxPooling1 (None, 19, 32)            0         \n",
      "_________________________________________________________________\n",
      "conv1d_23 (Conv1D)           (None, 4, 32)             16416     \n",
      "_________________________________________________________________\n",
      "batch_normalization_23 (Batc (None, 4, 32)             128       \n",
      "_________________________________________________________________\n",
      "flatten_7 (Flatten)          (None, 128)               0         \n",
      "_________________________________________________________________\n",
      "dense_14 (Dense)             (None, 16)                2064      \n",
      "_________________________________________________________________\n",
      "dense_15 (Dense)             (None, 1)                 17        \n",
      "=================================================================\n",
      "Total params: 55,809\n",
      "Trainable params: 55,617\n",
      "Non-trainable params: 192\n",
      "_________________________________________________________________\n",
      "None\n",
      "Training model\n",
      "Epoch 1/3\n",
      "2077/2079 [============================>.] - ETA: 0s - loss: 0.0012 - mean_absolute_error: 0.0106 - mean_squared_error: 0.0012   ETA: 1:02 - loss: 0.0022 - mean_absolute_e - ETA:  - ETA: 1s - loss: 0.0012 - mean_absolute_error: 0.0107 Epoch 1/3\n",
      "2772/2079 [========================================] - 20s 7ms/step - loss: 7.2090e-04 - mean_absolute_error: 0.0092 - mean_squared_error: 8.1170e-04\n",
      "2079/2079 [==============================] - 94s 45ms/step - loss: 0.0012 - mean_absolute_error: 0.0106 - mean_squared_error: 0.0012 - val_loss: 8.1170e-04 - val_mean_absolute_error: 0.0092 - val_mean_squared_error: 8.1170e-04\n",
      "Epoch 2/3\n",
      "2077/2079 [============================>.] - ETA: 0s - loss: 7.6458e-04 - mean_absolute_error: 0.0091 - mean_squared_error: 7.6458e-04Epoch 1/3\n",
      "2772/2079 [========================================] - 18s 7ms/step - loss: 7.6152e-04 - mean_absolute_error: 0.0087 - mean_squared_error: 7.9029e-04\n",
      "2079/2079 [==============================] - 87s 42ms/step - loss: 7.6467e-04 - mean_absolute_error: 0.0091 - mean_squared_error: 7.6467e-04 - val_loss: 7.9029e-04 - val_mean_absolute_error: 0.0087 - val_mean_squared_error: 7.9029e-04\n",
      "Epoch 3/3\n",
      "2078/2079 [============================>.] - ETA: 0s - loss: 7.2722e-04 - mean_absolute_error: 0.0089 - mean_squared_error: 7.2722e-04Epoch 1/3\n",
      "2772/2079 [========================================] - 18s 7ms/step - loss: 7.2692e-04 - mean_absolute_error: 0.0092 - mean_squared_error: 7.6688e-04\n",
      "2079/2079 [==============================] - 88s 42ms/step - loss: 7.2741e-04 - mean_absolute_error: 0.0089 - mean_squared_error: 7.2741e-04 - val_loss: 7.6689e-04 - val_mean_absolute_error: 0.0092 - val_mean_squared_error: 7.6688e-04\n",
      "Model trained!\n"
     ]
    }
   ],
   "source": [
    "from tensorflow.keras.models import Sequential\n",
    "from tensorflow.keras.layers import Dense, Conv1D, Flatten, BatchNormalization, MaxPooling1D, Dropout\n",
    "\n",
    "for fold in range(1, 5):\n",
    "    splits = len(train_seqs)//4\n",
    "    fold_test_seqs = train_seqs[splits*(fold-1):splits*fold]\n",
    "    fold_test_ers = train_ers[splits*(fold-1):splits*fold]\n",
    "    fold_train_seqs = train_seqs[0:splits*(fold-1)] + train_seqs[splits*fold:]\n",
    "    fold_train_ers = train_ers[0:splits*(fold-1)]  + train_ers[splits*fold:]\n",
    "    traingen = RNASeqDataGenerator(fold_train_seqs, fold_train_ers, batch_size=1024, logits=False)\n",
    "    testgen = RNASeqDataGenerator(fold_test_seqs, fold_test_ers, logits=False)\n",
    "    #create model\n",
    "    model = Sequential()\n",
    "    #add model layers\n",
    "    model.add(Conv1D(32, kernel_size=32, activation='relu', input_shape=(101,4)))\n",
    "    model.add(BatchNormalization())\n",
    "    model.add(Conv1D(32, kernel_size=32, activation='relu'))\n",
    "    model.add(BatchNormalization())\n",
    "    model.add(MaxPooling1D())\n",
    "    model.add(Conv1D(32, kernel_size=16, activation='relu'))\n",
    "    model.add(BatchNormalization())\n",
    "    model.add(Flatten())\n",
    "    model.add(Dense(16, activation = 'relu'))\n",
    "    model.add(Dense(1, activation = 'sigmoid'))\n",
    "    model.compile(optimizer=\"RMSprop\", loss=\"mse\", metrics=[\"mae\", 'mse'])\n",
    "    print('Model built!')\n",
    "    print(model.summary())\n",
    "    print('Training model')\n",
    "    history = model.fit(traingen, validation_data=testgen, workers=10, use_multiprocessing=True, epochs=3)\n",
    "    print('Model trained!')\n",
    "    model.save(\"{}/{}Fold-{}.h5\".format(be_class, sample, fold))"
   ]
  },
  {
   "cell_type": "markdown",
   "metadata": {},
   "source": [
    "# Model Performance Metrics"
   ]
  },
  {
   "cell_type": "code",
   "execution_count": 40,
   "metadata": {
    "scrolled": false
   },
   "outputs": [
    {
     "name": "stderr",
     "output_type": "stream",
     "text": [
      "100%|██████████| 23/23 [00:08<00:00,  2.81it/s]\n",
      "100%|██████████| 2772/2772 [00:20<00:00, 137.61it/s]\n",
      "100%|██████████| 2772/2772 [00:20<00:00, 136.79it/s]\n",
      "100%|██████████| 2772/2772 [00:19<00:00, 138.62it/s]\n",
      "100%|██████████| 2772/2772 [00:20<00:00, 138.13it/s]\n"
     ]
    }
   ],
   "source": [
    "be_type = 'CBE'\n",
    "be_class = 'A3A'\n",
    "sample = '162F'\n",
    "from scipy import stats\n",
    "from tqdm import tqdm\n",
    "import numpy as np\n",
    "import tensorflow as tf\n",
    "\n",
    "def rmse(x, y):\n",
    "    return np.sqrt(np.mean((x-y)**2))\n",
    "\n",
    "def spearman(x, y):\n",
    "        return stats.spearmanr(x, y)[0]\n",
    "def pearson(x, y):\n",
    "        return stats.pearsonr(x, y)[0]\n",
    "    \n",
    "data_dir = \"../../data/raw/{0}/{0}-sequence/\".format(be_type)\n",
    "\n",
    "train_chr = [str(x) for x in range(1, 23)]+['X']\n",
    "\n",
    "train_seqs, train_ers = [], []\n",
    "for rep in tqdm(train_chr):\n",
    "        seq, er = load_fasta_data(sample, rep, data_dir)\n",
    "        train_seqs = seq+train_seqs\n",
    "        train_ers = er+train_ers\n",
    "        \n",
    "splits = len(train_seqs)//4   \n",
    "\n",
    "r = []\n",
    "s = []\n",
    "p = []\n",
    " \n",
    "for fold in range(1, 5): \n",
    "    model = tf.keras.models.load_model(\"{}/{}Fold-{}.h5\".format(be_class, sample, fold))\n",
    "    test_seqs2 = train_seqs[splits*(fold-1):splits*fold]\n",
    "    test_ers = train_ers[splits*(fold-1):splits*fold]\n",
    "    testgen = RNASeqDataGenerator(test_seqs2, test_ers, logits=False)\n",
    "    preds = model.predict(testgen)\n",
    "    preds = np.squeeze(preds, axis=1)\n",
    "    test_er = np.hstack([y for x, y in tqdm(testgen)])\n",
    "    r.append(rmse(preds, test_er))\n",
    "    s.append(spearman(preds, test_er))\n",
    "    p.append(pearson(preds, test_er))"
   ]
  },
  {
   "cell_type": "code",
   "execution_count": 41,
   "metadata": {},
   "outputs": [
    {
     "data": {
      "text/plain": [
       "[0.026893737244911335,\n",
       " 0.027385156519877184,\n",
       " 0.027246271941422186,\n",
       " 0.027692689921831843]"
      ]
     },
     "execution_count": 41,
     "metadata": {},
     "output_type": "execute_result"
    }
   ],
   "source": [
    "r"
   ]
  },
  {
   "cell_type": "code",
   "execution_count": 42,
   "metadata": {},
   "outputs": [
    {
     "data": {
      "text/plain": [
       "[0.609665201774, 0.6083757474965663, 0.6109869328891024, 0.6020256483641462]"
      ]
     },
     "execution_count": 42,
     "metadata": {},
     "output_type": "execute_result"
    }
   ],
   "source": [
    "p"
   ]
  },
  {
   "cell_type": "code",
   "execution_count": 43,
   "metadata": {},
   "outputs": [
    {
     "data": {
      "text/plain": [
       "[0.42772313070099693,\n",
       " 0.4430799636111852,\n",
       " 0.44675761853479046,\n",
       " 0.4575794858024004]"
      ]
     },
     "execution_count": 43,
     "metadata": {},
     "output_type": "execute_result"
    }
   ],
   "source": [
    "s"
   ]
  },
  {
   "cell_type": "code",
   "execution_count": 44,
   "metadata": {},
   "outputs": [
    {
     "data": {
      "text/plain": [
       "([0.026893737244911335,\n",
       "  0.027385156519877184,\n",
       "  0.027246271941422186,\n",
       "  0.027692689921831843],\n",
       " [0.42772313070099693,\n",
       "  0.4430799636111852,\n",
       "  0.44675761853479046,\n",
       "  0.4575794858024004],\n",
       " [0.609665201774, 0.6083757474965663, 0.6109869328891024, 0.6020256483641462])"
      ]
     },
     "execution_count": 44,
     "metadata": {},
     "output_type": "execute_result"
    }
   ],
   "source": [
    "r, s, p"
   ]
  },
  {
   "cell_type": "code",
   "execution_count": 45,
   "metadata": {},
   "outputs": [],
   "source": [
    "import pandas as pd\n",
    "df = pd.DataFrame({'Fold':range(1,5), 'RMSE':r, 'SpearmanR':s, 'PearsonR':p})"
   ]
  },
  {
   "cell_type": "code",
   "execution_count": 46,
   "metadata": {},
   "outputs": [
    {
     "data": {
      "text/html": [
       "<div>\n",
       "<style scoped>\n",
       "    .dataframe tbody tr th:only-of-type {\n",
       "        vertical-align: middle;\n",
       "    }\n",
       "\n",
       "    .dataframe tbody tr th {\n",
       "        vertical-align: top;\n",
       "    }\n",
       "\n",
       "    .dataframe thead th {\n",
       "        text-align: right;\n",
       "    }\n",
       "</style>\n",
       "<table border=\"1\" class=\"dataframe\">\n",
       "  <thead>\n",
       "    <tr style=\"text-align: right;\">\n",
       "      <th></th>\n",
       "      <th>Fold</th>\n",
       "      <th>RMSE</th>\n",
       "      <th>SpearmanR</th>\n",
       "      <th>PearsonR</th>\n",
       "    </tr>\n",
       "  </thead>\n",
       "  <tbody>\n",
       "    <tr>\n",
       "      <th>0</th>\n",
       "      <td>1</td>\n",
       "      <td>0.026894</td>\n",
       "      <td>0.427723</td>\n",
       "      <td>0.609665</td>\n",
       "    </tr>\n",
       "    <tr>\n",
       "      <th>1</th>\n",
       "      <td>2</td>\n",
       "      <td>0.027385</td>\n",
       "      <td>0.443080</td>\n",
       "      <td>0.608376</td>\n",
       "    </tr>\n",
       "    <tr>\n",
       "      <th>2</th>\n",
       "      <td>3</td>\n",
       "      <td>0.027246</td>\n",
       "      <td>0.446758</td>\n",
       "      <td>0.610987</td>\n",
       "    </tr>\n",
       "    <tr>\n",
       "      <th>3</th>\n",
       "      <td>4</td>\n",
       "      <td>0.027693</td>\n",
       "      <td>0.457579</td>\n",
       "      <td>0.602026</td>\n",
       "    </tr>\n",
       "  </tbody>\n",
       "</table>\n",
       "</div>"
      ],
      "text/plain": [
       "   Fold      RMSE  SpearmanR  PearsonR\n",
       "0     1  0.026894   0.427723  0.609665\n",
       "1     2  0.027385   0.443080  0.608376\n",
       "2     3  0.027246   0.446758  0.610987\n",
       "3     4  0.027693   0.457579  0.602026"
      ]
     },
     "execution_count": 46,
     "metadata": {},
     "output_type": "execute_result"
    }
   ],
   "source": [
    "df.head()"
   ]
  },
  {
   "cell_type": "code",
   "execution_count": 47,
   "metadata": {},
   "outputs": [],
   "source": [
    "df.to_csv(\"{}/{}results.csv\".format(be_class, sample), index=False)"
   ]
  }
 ],
 "metadata": {
  "kernelspec": {
   "display_name": "Python [conda env:tf1.15.2]",
   "language": "python",
   "name": "conda-env-tf1.15.2-py"
  },
  "language_info": {
   "codemirror_mode": {
    "name": "ipython",
    "version": 3
   },
   "file_extension": ".py",
   "mimetype": "text/x-python",
   "name": "python",
   "nbconvert_exporter": "python",
   "pygments_lexer": "ipython3",
   "version": "3.7.7"
  }
 },
 "nbformat": 4,
 "nbformat_minor": 4
}
