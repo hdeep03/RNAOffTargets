{
 "cells": [
  {
   "cell_type": "markdown",
   "metadata": {},
   "source": [
    "# 4-fold Regression Cross Validation"
   ]
  },
  {
   "cell_type": "code",
   "execution_count": 1,
   "metadata": {},
   "outputs": [],
   "source": [
    "import tensorflow as tf\n",
    "import os\n",
    "cwd = os.getcwd()\n",
    "os.chdir('../../src/')\n",
    "from dataloader import OneHotEncoder, load_fasta_data, RNASeqDataGenerator\n",
    "from regression import seq2twohot\n",
    "os.chdir('../experiments/CrossValidation/')"
   ]
  },
  {
   "cell_type": "code",
   "execution_count": 2,
   "metadata": {},
   "outputs": [],
   "source": [
    "def rmse(x, y):\n",
    "    return np.sqrt(np.mean((x-y)**2))"
   ]
  },
  {
   "cell_type": "code",
   "execution_count": 3,
   "metadata": {},
   "outputs": [
    {
     "name": "stderr",
     "output_type": "stream",
     "text": [
      "100%|██████████| 23/23 [00:09<00:00,  2.46it/s]\n"
     ]
    }
   ],
   "source": [
    "from tqdm import tqdm\n",
    "be_type='CBE'\n",
    "sample='162F'\n",
    "be_class='A3A'\n",
    "\n",
    "data_dir = \"../../data/raw/{0}/{0}-sequence/\".format(be_type)\n",
    "\n",
    "train_chr = [str(x) for x in range(1, 23)]+['X']\n",
    "\n",
    "train_seqs, train_ers = [], []\n",
    "for rep in tqdm(train_chr):\n",
    "        seq, er = load_fasta_data(sample, rep, data_dir)\n",
    "        train_seqs = seq+train_seqs\n",
    "        train_ers = er+train_ers\n",
    "splits = len(train_seqs)//4"
   ]
  },
  {
   "cell_type": "code",
   "execution_count": 4,
   "metadata": {
    "scrolled": false
   },
   "outputs": [],
   "source": [
    "import numpy as np \n",
    "from sklearn.linear_model import Ridge\n",
    "from scipy import stats\n",
    "\n",
    "p = []\n",
    "s = []\n",
    "r = []\n",
    "\n",
    "for fold in range(1, 5):\n",
    "    fold_test_seqs = train_seqs[splits*(fold-1):splits*fold]\n",
    "    fold_test_ers = train_ers[splits*(fold-1):splits*fold]\n",
    "    fold_train_seqs = train_seqs[0:splits*(fold-1)] + train_seqs[splits*fold:]\n",
    "    fold_train_ers = train_ers[0:splits*(fold-1)]  + train_ers[splits*fold:]\n",
    "    train_seq_reg = np.array([seq2twohot(x) for x in fold_train_seqs])\n",
    "    test_seq_reg = np.array([seq2twohot(x) for x in fold_test_seqs])\n",
    "    reg = Ridge().fit(train_seq_reg, fold_train_ers)\n",
    "    preds = reg.predict(test_seq_reg)\n",
    "    p.append(stats.pearsonr(preds, fold_test_ers)[0])\n",
    "    s.append(stats.spearmanr(preds, fold_test_ers)[0])\n",
    "    r.append(rmse(preds, fold_test_ers))"
   ]
  },
  {
   "cell_type": "code",
   "execution_count": 5,
   "metadata": {},
   "outputs": [],
   "source": [
    "import pandas as pd\n",
    "df = pd.DataFrame({'Fold':range(1,5), 'RMSE':r, 'SpearmanR':s, 'PearsonR':p})"
   ]
  },
  {
   "cell_type": "code",
   "execution_count": 6,
   "metadata": {},
   "outputs": [],
   "source": [
    "df.to_csv(\"{}/{}REGresults.csv\".format(be_class, sample),index=False)"
   ]
  }
 ],
 "metadata": {
  "kernelspec": {
   "display_name": "Python [conda env:tf1.15.2]",
   "language": "python",
   "name": "conda-env-tf1.15.2-py"
  },
  "language_info": {
   "codemirror_mode": {
    "name": "ipython",
    "version": 3
   },
   "file_extension": ".py",
   "mimetype": "text/x-python",
   "name": "python",
   "nbconvert_exporter": "python",
   "pygments_lexer": "ipython3",
   "version": "3.7.7"
  }
 },
 "nbformat": 4,
 "nbformat_minor": 4
}
