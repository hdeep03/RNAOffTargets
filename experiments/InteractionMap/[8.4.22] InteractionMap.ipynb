{
 "cells": [
  {
   "cell_type": "markdown",
   "metadata": {},
   "source": [
    "# Interaction Map"
   ]
  },
  {
   "cell_type": "markdown",
   "metadata": {},
   "source": [
    "## Load RNA Data"
   ]
  },
  {
   "cell_type": "code",
   "execution_count": null,
   "metadata": {},
   "outputs": [],
   "source": [
    "import tensorflow as tf\n",
    "import os\n",
    "cwd = os.getcwd()\n",
    "os.chdir('../../src/')\n",
    "from dataloader import OneHotEncoder, load_fasta_data, RNASeqDataGenerator\n",
    "os.chdir('../experiments/InteractionMap/')"
   ]
  },
  {
   "cell_type": "code",
   "execution_count": null,
   "metadata": {},
   "outputs": [],
   "source": [
    "os.environ[\"CUDA_DEVICE_ORDER\"] = \"PCI_BUS_ID\"\n",
    "os.environ[\"CUDA_VISIBLE_DEVICES\"]=\"0\"\n",
    "os.environ['TF_CPP_MIN_LOG_LEVEL'] = '2'\n",
    "config = tf.ConfigProto(log_device_placement=True)\n",
    "config.gpu_options.allow_growth=True\n",
    "sess = tf.Session(config=config)"
   ]
  },
  {
   "cell_type": "code",
   "execution_count": null,
   "metadata": {},
   "outputs": [],
   "source": [
    "from tqdm import tqdm\n",
    "be_type='ABE'\n",
    "sample='156B'\n",
    "be_class='ABEmax'\n",
    "\n",
    "data_dir = \"../../data/raw/{0}/{0}-sequence/\".format(be_type)\n",
    "\n",
    "train_chr = [str(x) for x in range(1, 20)]\n",
    "test_chr = [str(x) for x in range(20, 23)] + ['X']\n",
    "\n",
    "train_seqs, train_ers = [], []\n",
    "for rep in tqdm(train_chr):\n",
    "        seq, er = load_fasta_data(sample, rep, data_dir)\n",
    "        train_seqs = seq+train_seqs\n",
    "        train_ers = er+train_ers\n",
    "        \n",
    "test_seqs, test_ers = [], []\n",
    "for rep in tqdm(test_chr):\n",
    "        seq, er = load_fasta_data(sample, rep, data_dir)\n",
    "        test_seqs = seq+test_seqs\n",
    "        test_ers = er+test_ers"
   ]
  },
  {
   "cell_type": "markdown",
   "metadata": {},
   "source": [
    "## Load Model"
   ]
  },
  {
   "cell_type": "code",
   "execution_count": null,
   "metadata": {
    "scrolled": true
   },
   "outputs": [],
   "source": [
    "import tensorflow as tf\n",
    "model = tf.keras.models.load_model('../CrossValidation/ABEmax/156BFold-1.h5', compile=False)"
   ]
  },
  {
   "cell_type": "markdown",
   "metadata": {},
   "source": [
    "## Build Background Set"
   ]
  },
  {
   "cell_type": "code",
   "execution_count": null,
   "metadata": {},
   "outputs": [],
   "source": [
    "import shap\n",
    "train_dat_gen = RNASeqDataGenerator(train_seqs, train_ers)"
   ]
  },
  {
   "cell_type": "code",
   "execution_count": null,
   "metadata": {},
   "outputs": [],
   "source": [
    "from tqdm import tqdm\n",
    "import numpy as np\n",
    "X_bg = list()\n",
    "y_bg = list()\n",
    "th = 0.01\n",
    "inp = np.arange(len(train_dat_gen))\n",
    "np.random.shuffle(inp)\n",
    "for x in tqdm(inp):\n",
    "    inp_data = train_dat_gen[x][0]\n",
    "    gt = train_dat_gen[x][1]\n",
    "    preds = model.predict(inp_data)\n",
    "    for index in range(inp_data.shape[0]):\n",
    "        if (preds[index]<th):\n",
    "            X_bg.append(inp_data[index])\n",
    "            y_bg.append(gt[index])\n",
    "    if len(y_bg)>4096:\n",
    "        break;\n",
    "X_bg_set = np.array(X_bg)"
   ]
  },
  {
   "cell_type": "code",
   "execution_count": null,
   "metadata": {},
   "outputs": [],
   "source": [
    "shap_explainer = shap.DeepExplainer(model, X_bg_set)"
   ]
  },
  {
   "cell_type": "markdown",
   "metadata": {},
   "source": [
    "# Build Testing Set"
   ]
  },
  {
   "cell_type": "code",
   "execution_count": null,
   "metadata": {},
   "outputs": [],
   "source": [
    "from tqdm import trange\n",
    "import numpy as np\n",
    "ohe = OneHotEncoder(101, {'A':0, 'C':1, 'G':2, 'T':3})\n",
    "vals = list()\n",
    "\n",
    "for x in trange(len(test_seqs)):\n",
    "    if test_ers[x] < 0.10:\n",
    "        continue\n",
    "    pred = model.predict(np.expand_dims(ohe.encode(test_seqs[x]), axis=0))\n",
    "    if np.abs(pred - test_ers[x])/(test_ers[x]) < 0.05:\n",
    "        vals.append(x)\n",
    "    if len(vals)>200:\n",
    "        break;"
   ]
  },
  {
   "cell_type": "code",
   "execution_count": null,
   "metadata": {},
   "outputs": [],
   "source": [
    "len(vals)"
   ]
  },
  {
   "cell_type": "code",
   "execution_count": null,
   "metadata": {},
   "outputs": [],
   "source": [
    "model.predict(np.expand_dims(ohe.encode(test_seqs[vals[0]]), axis=0))"
   ]
  },
  {
   "cell_type": "code",
   "execution_count": null,
   "metadata": {},
   "outputs": [],
   "source": [
    "def mutate(seq):\n",
    "    amt = 50\n",
    "    start = 50-amt\n",
    "    end = 50+amt\n",
    "    ret = list()\n",
    "    ret.append(seq)\n",
    "    for x in range(start, end+1):\n",
    "        if x == 50:\n",
    "            continue\n",
    "        for base in ['A', 'C', 'G', 'T']:\n",
    "            ret.append(seq[0:x]+base+seq[x+1:])\n",
    "    return ret"
   ]
  },
  {
   "cell_type": "code",
   "execution_count": null,
   "metadata": {},
   "outputs": [],
   "source": [
    "from tqdm import tqdm\n",
    "ohe = OneHotEncoder(101, {'A':0, 'C':1, 'G':2, 'T':3})\n",
    "result = list()\n",
    "ct = 0\n",
    "for i in tqdm(vals):\n",
    "    reter = mutate(test_seqs[i])\n",
    "    inp = np.stack([ohe.encode(reter[x]) for x in range(401)])\n",
    "    res = shap_explainer.shap_values(inp)\n",
    "    imp_scores = res[0] * inp\n",
    "    delta = np.abs(np.stack([imp_scores[x] - imp_scores[0] for x in range(1, 401)]))\n",
    "    delta = np.concatenate([delta[:, 0:50, :], delta[:, 51:101, :]], axis=1)\n",
    "    result.append(np.stack([delta[x].flatten() for x in range(delta.shape[0])]))\n",
    "    ct+=1"
   ]
  },
  {
   "cell_type": "code",
   "execution_count": null,
   "metadata": {},
   "outputs": [],
   "source": [
    "comb = np.stack(result)"
   ]
  },
  {
   "cell_type": "code",
   "execution_count": null,
   "metadata": {},
   "outputs": [],
   "source": [
    "mean = np.mean(comb, axis=0)"
   ]
  },
  {
   "cell_type": "code",
   "execution_count": null,
   "metadata": {},
   "outputs": [],
   "source": [
    "mean.shape"
   ]
  },
  {
   "cell_type": "code",
   "execution_count": null,
   "metadata": {
    "scrolled": false
   },
   "outputs": [],
   "source": [
    "import numpy as np\n",
    "import matplotlib.pyplot as plt\n",
    "from matplotlib.pyplot import figure\n",
    "\n",
    "figure(figsize=(8, 6), dpi=1000)\n",
    "plt.imshow(mean)\n",
    "plt.colorbar()\n",
    "plt.clim(0.0, 0.10)\n",
    "plt.show()\n",
    "plt.savefig('line_plot.pdf') "
   ]
  },
  {
   "cell_type": "code",
   "execution_count": null,
   "metadata": {
    "scrolled": true
   },
   "outputs": [],
   "source": [
    "from matplotlib.backends.backend_pdf import PdfPages\n",
    "pdf = PdfPages('156BImportanceMap.pdf')\n",
    "for x in comb:\n",
    "    fig = plt.figure(figsize=(8, 6), dpi=1000)\n",
    "    plt.imshow(x)\n",
    "    plt.colorbar()\n",
    "    plt.clim(0.0, 0.10)\n",
    "    pdf.savefig(fig)\n",
    "    \n",
    "fig = plt.figure(figsize=(8, 6), dpi=1000)\n",
    "plt.imshow(mean)\n",
    "plt.colorbar()\n",
    "plt.clim(0.0, 0.10)\n",
    "pdf.savefig(fig)\n",
    "pdf.close()    "
   ]
  }
 ],
 "metadata": {
  "kernelspec": {
   "display_name": "Python [conda env:tf1.15.2]",
   "language": "python",
   "name": "conda-env-tf1.15.2-py"
  },
  "language_info": {
   "codemirror_mode": {
    "name": "ipython",
    "version": 3
   },
   "file_extension": ".py",
   "mimetype": "text/x-python",
   "name": "python",
   "nbconvert_exporter": "python",
   "pygments_lexer": "ipython3",
   "version": "3.7.7"
  }
 },
 "nbformat": 4,
 "nbformat_minor": 4
}
