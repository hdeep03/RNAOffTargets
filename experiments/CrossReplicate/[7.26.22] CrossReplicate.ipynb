{
 "cells": [
  {
   "cell_type": "markdown",
   "metadata": {},
   "source": [
    "# Cross-replicate concordance"
   ]
  },
  {
   "cell_type": "code",
   "execution_count": 1,
   "metadata": {},
   "outputs": [],
   "source": [
    "base_path = \"../../data/raw/CBE/CBE-sequence/\"\n",
    "train_ABE_samples = ['161F', '162F']\n",
    "train_chr = [str(x) for x in range(1, 23)] + ['X']\n",
    "be = 'ABEmax'"
   ]
  },
  {
   "cell_type": "code",
   "execution_count": 2,
   "metadata": {},
   "outputs": [],
   "source": [
    "import tensorflow as tf\n",
    "import os\n",
    "from tqdm import tqdm\n",
    "cwd = os.getcwd()\n",
    "os.chdir('../../src/')\n",
    "from dataloader import OneHotEncoder, load_fasta_data, RNASeqDataGenerator\n",
    "from regression import seq2twohot\n",
    "os.chdir('../experiments/CrossReplicate/')"
   ]
  },
  {
   "cell_type": "code",
   "execution_count": 3,
   "metadata": {},
   "outputs": [
    {
     "name": "stderr",
     "output_type": "stream",
     "text": [
      "100%|██████████| 23/23 [00:05<00:00,  4.03it/s]\n",
      "100%|██████████| 23/23 [00:08<00:00,  2.58it/s]\n"
     ]
    }
   ],
   "source": [
    "from tqdm import tqdm\n",
    "train_a_seqs = []\n",
    "train_a_ers = []\n",
    "for rep in tqdm(train_chr):\n",
    "    sample = train_ABE_samples[0]\n",
    "    seq, er = load_fasta_data(sample, rep, base_path)\n",
    "    train_a_seqs = seq+train_a_seqs\n",
    "    train_a_ers = er+train_a_ers\n",
    "train_b_seqs = []\n",
    "train_b_ers = []\n",
    "for rep in tqdm(train_chr):\n",
    "    sample = train_ABE_samples[1]\n",
    "    seq, er = load_fasta_data(sample, rep, base_path)\n",
    "    train_b_seqs = seq+train_b_seqs\n",
    "    train_b_ers = er+train_b_ers"
   ]
  },
  {
   "cell_type": "code",
   "execution_count": 4,
   "metadata": {},
   "outputs": [
    {
     "name": "stderr",
     "output_type": "stream",
     "text": [
      "100%|██████████| 1820955/1820955 [00:01<00:00, 1288070.99it/s]\n"
     ]
    }
   ],
   "source": [
    "from tqdm import trange\n",
    "res = {}\n",
    "for x in trange(len(train_a_seqs)):\n",
    "    res[train_a_seqs[x]] = train_a_ers[x]"
   ]
  },
  {
   "cell_type": "code",
   "execution_count": 5,
   "metadata": {},
   "outputs": [
    {
     "name": "stderr",
     "output_type": "stream",
     "text": [
      "100%|██████████| 2839187/2839187 [00:02<00:00, 1059339.58it/s]\n"
     ]
    }
   ],
   "source": [
    "er_b = []\n",
    "er_a = []\n",
    "for x in trange(len(train_b_seqs)):\n",
    "    try:\n",
    "        er = res[train_b_seqs[x]]\n",
    "        er_a.append(er)\n",
    "        er_b.append(train_b_ers[x])\n",
    "    except:\n",
    "        continue"
   ]
  },
  {
   "cell_type": "code",
   "execution_count": 6,
   "metadata": {},
   "outputs": [
    {
     "name": "stdout",
     "output_type": "stream",
     "text": [
      "0.9024330864221537\n",
      "0.4941933123502825\n"
     ]
    }
   ],
   "source": [
    "from scipy import stats\n",
    "print(stats.pearsonr(er_b, er_a)[0])\n",
    "print(stats.spearmanr(er_b, er_a)[0])"
   ]
  }
 ],
 "metadata": {
  "kernelspec": {
   "display_name": "Python [conda env:tf1.15.2]",
   "language": "python",
   "name": "conda-env-tf1.15.2-py"
  },
  "language_info": {
   "codemirror_mode": {
    "name": "ipython",
    "version": 3
   },
   "file_extension": ".py",
   "mimetype": "text/x-python",
   "name": "python",
   "nbconvert_exporter": "python",
   "pygments_lexer": "ipython3",
   "version": "3.7.7"
  }
 },
 "nbformat": 4,
 "nbformat_minor": 4
}
